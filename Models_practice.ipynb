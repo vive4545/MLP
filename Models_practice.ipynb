{
 "cells": [
  {
   "cell_type": "code",
   "execution_count": 1,
   "metadata": {
    "collapsed": true
   },
   "outputs": [],
   "source": [
    "import numpy as np\n",
    "import pandas as pd\n"
   ]
  },
  {
   "cell_type": "code",
   "execution_count": 6,
   "metadata": {
    "collapsed": true
   },
   "outputs": [],
   "source": [
    "a=np.ones([3,3])"
   ]
  },
  {
   "cell_type": "code",
   "execution_count": 7,
   "metadata": {},
   "outputs": [
    {
     "data": {
      "text/plain": [
       "array([[1., 1., 1.],\n",
       "       [1., 1., 1.],\n",
       "       [1., 1., 1.]])"
      ]
     },
     "execution_count": 7,
     "metadata": {},
     "output_type": "execute_result"
    }
   ],
   "source": [
    "\n",
    "a"
   ]
  },
  {
   "cell_type": "code",
   "execution_count": 9,
   "metadata": {
    "collapsed": true
   },
   "outputs": [],
   "source": [
    "my_list=[\"A\",\"B\",\"C\"]"
   ]
  },
  {
   "cell_type": "code",
   "execution_count": 10,
   "metadata": {
    "collapsed": true
   },
   "outputs": [],
   "source": [
    "a=np.array(my_list)"
   ]
  },
  {
   "cell_type": "code",
   "execution_count": 11,
   "metadata": {},
   "outputs": [
    {
     "data": {
      "text/plain": [
       "array(['A', 'B', 'C'], dtype='<U1')"
      ]
     },
     "execution_count": 11,
     "metadata": {},
     "output_type": "execute_result"
    }
   ],
   "source": [
    "a"
   ]
  },
  {
   "cell_type": "code",
   "execution_count": 14,
   "metadata": {},
   "outputs": [
    {
     "data": {
      "text/plain": [
       "dtype('<U1')"
      ]
     },
     "execution_count": 14,
     "metadata": {},
     "output_type": "execute_result"
    }
   ],
   "source": [
    "a.dtype"
   ]
  },
  {
   "cell_type": "code",
   "execution_count": 15,
   "metadata": {
    "collapsed": true
   },
   "outputs": [],
   "source": [
    "import string\n"
   ]
  },
  {
   "cell_type": "code",
   "execution_count": 18,
   "metadata": {
    "collapsed": true
   },
   "outputs": [],
   "source": [
    "a=np.array(list(string.ascii_uppercase))"
   ]
  },
  {
   "cell_type": "code",
   "execution_count": 19,
   "metadata": {},
   "outputs": [
    {
     "data": {
      "text/plain": [
       "array(['A', 'B', 'C', 'D', 'E', 'F', 'G', 'H', 'I', 'J', 'K', 'L', 'M',\n",
       "       'N', 'O', 'P', 'Q', 'R', 'S', 'T', 'U', 'V', 'W', 'X', 'Y', 'Z'],\n",
       "      dtype='<U1')"
      ]
     },
     "execution_count": 19,
     "metadata": {},
     "output_type": "execute_result"
    }
   ],
   "source": [
    "a"
   ]
  },
  {
   "cell_type": "code",
   "execution_count": 21,
   "metadata": {
    "collapsed": true
   },
   "outputs": [],
   "source": [
    "a=np.random.randint(low=0 ,high=10 ,size=[5,5])"
   ]
  },
  {
   "cell_type": "code",
   "execution_count": 22,
   "metadata": {},
   "outputs": [
    {
     "data": {
      "text/plain": [
       "array([[9, 2, 9, 0, 2],\n",
       "       [7, 0, 5, 7, 4],\n",
       "       [7, 6, 9, 9, 8],\n",
       "       [4, 0, 6, 9, 5],\n",
       "       [1, 0, 2, 2, 0]])"
      ]
     },
     "execution_count": 22,
     "metadata": {},
     "output_type": "execute_result"
    }
   ],
   "source": [
    "a"
   ]
  },
  {
   "cell_type": "code",
   "execution_count": 23,
   "metadata": {},
   "outputs": [
    {
     "data": {
      "text/plain": [
       "dtype('int32')"
      ]
     },
     "execution_count": 23,
     "metadata": {},
     "output_type": "execute_result"
    }
   ],
   "source": [
    "a.dtype"
   ]
  },
  {
   "cell_type": "code",
   "execution_count": 26,
   "metadata": {
    "collapsed": true
   },
   "outputs": [],
   "source": [
    "a=np.arange(1,10,1)"
   ]
  },
  {
   "cell_type": "code",
   "execution_count": 27,
   "metadata": {},
   "outputs": [
    {
     "data": {
      "text/plain": [
       "array([1, 2, 3, 4, 5, 6, 7, 8, 9])"
      ]
     },
     "execution_count": 27,
     "metadata": {},
     "output_type": "execute_result"
    }
   ],
   "source": [
    "a"
   ]
  },
  {
   "cell_type": "code",
   "execution_count": 28,
   "metadata": {
    "collapsed": true
   },
   "outputs": [],
   "source": [
    "a=np.eye(3)"
   ]
  },
  {
   "cell_type": "code",
   "execution_count": 29,
   "metadata": {},
   "outputs": [
    {
     "data": {
      "text/plain": [
       "array([[1., 0., 0.],\n",
       "       [0., 1., 0.],\n",
       "       [0., 0., 1.]])"
      ]
     },
     "execution_count": 29,
     "metadata": {},
     "output_type": "execute_result"
    }
   ],
   "source": [
    "a"
   ]
  },
  {
   "cell_type": "code",
   "execution_count": 30,
   "metadata": {
    "collapsed": true
   },
   "outputs": [],
   "source": [
    "c=np.linspace(1,5,10)"
   ]
  },
  {
   "cell_type": "code",
   "execution_count": 31,
   "metadata": {},
   "outputs": [
    {
     "data": {
      "text/plain": [
       "array([1.        , 1.44444444, 1.88888889, 2.33333333, 2.77777778,\n",
       "       3.22222222, 3.66666667, 4.11111111, 4.55555556, 5.        ])"
      ]
     },
     "execution_count": 31,
     "metadata": {},
     "output_type": "execute_result"
    }
   ],
   "source": [
    "c"
   ]
  },
  {
   "cell_type": "code",
   "execution_count": 39,
   "metadata": {
    "collapsed": true
   },
   "outputs": [],
   "source": [
    "a=np.array([[\"A\",\"B\",\"C\"],[\"G\",\"H\",\"I\"]])\n",
    "b=np.array([[\"D\",\"E\",\"F\"],[\"J\",\"K\",\"L\"]])"
   ]
  },
  {
   "cell_type": "code",
   "execution_count": 42,
   "metadata": {
    "collapsed": true
   },
   "outputs": [],
   "source": [
    "c=np.concatenate((a,b),axis=0)"
   ]
  },
  {
   "cell_type": "code",
   "execution_count": 43,
   "metadata": {},
   "outputs": [
    {
     "data": {
      "text/plain": [
       "array([['A', 'B', 'C'],\n",
       "       ['G', 'H', 'I'],\n",
       "       ['D', 'E', 'F'],\n",
       "       ['J', 'K', 'L']], dtype='<U1')"
      ]
     },
     "execution_count": 43,
     "metadata": {},
     "output_type": "execute_result"
    }
   ],
   "source": [
    "c"
   ]
  },
  {
   "cell_type": "code",
   "execution_count": 44,
   "metadata": {
    "collapsed": true
   },
   "outputs": [],
   "source": [
    "import pandas as pd"
   ]
  },
  {
   "cell_type": "code",
   "execution_count": 45,
   "metadata": {
    "collapsed": true
   },
   "outputs": [],
   "source": [
    "import matplotlib.pyplot as plt"
   ]
  },
  {
   "cell_type": "code",
   "execution_count": 46,
   "metadata": {
    "collapsed": true
   },
   "outputs": [],
   "source": [
    "import seaborn as sns\n"
   ]
  },
  {
   "cell_type": "code",
   "execution_count": 47,
   "metadata": {
    "collapsed": true
   },
   "outputs": [],
   "source": [
    "df=pd.read_csv(\"Movie-Data.csv\")"
   ]
  },
  {
   "cell_type": "code",
   "execution_count": 48,
   "metadata": {},
   "outputs": [
    {
     "data": {
      "text/html": [
       "<div>\n",
       "<style scoped>\n",
       "    .dataframe tbody tr th:only-of-type {\n",
       "        vertical-align: middle;\n",
       "    }\n",
       "\n",
       "    .dataframe tbody tr th {\n",
       "        vertical-align: top;\n",
       "    }\n",
       "\n",
       "    .dataframe thead th {\n",
       "        text-align: right;\n",
       "    }\n",
       "</style>\n",
       "<table border=\"1\" class=\"dataframe\">\n",
       "  <thead>\n",
       "    <tr style=\"text-align: right;\">\n",
       "      <th></th>\n",
       "      <th>Rank</th>\n",
       "      <th>Title</th>\n",
       "      <th>Genre</th>\n",
       "      <th>Description</th>\n",
       "      <th>Director</th>\n",
       "      <th>Actors</th>\n",
       "      <th>Year</th>\n",
       "      <th>Runtime (Minutes)</th>\n",
       "      <th>Rating</th>\n",
       "      <th>Votes</th>\n",
       "      <th>Revenue (Millions)</th>\n",
       "      <th>Metascore</th>\n",
       "    </tr>\n",
       "  </thead>\n",
       "  <tbody>\n",
       "    <tr>\n",
       "      <th>0</th>\n",
       "      <td>1</td>\n",
       "      <td>Guardians of the Galaxy</td>\n",
       "      <td>Action,Adventure,Sci-Fi</td>\n",
       "      <td>A group of intergalactic criminals are forced ...</td>\n",
       "      <td>James Gunn</td>\n",
       "      <td>Chris Pratt, Vin Diesel, Bradley Cooper, Zoe S...</td>\n",
       "      <td>2014.0</td>\n",
       "      <td>121</td>\n",
       "      <td>8.1</td>\n",
       "      <td>757074</td>\n",
       "      <td>333.13</td>\n",
       "      <td>76.0</td>\n",
       "    </tr>\n",
       "    <tr>\n",
       "      <th>1</th>\n",
       "      <td>2</td>\n",
       "      <td>Prometheus</td>\n",
       "      <td>Adventure,Mystery,Sci-Fi</td>\n",
       "      <td>Following clues to the origin of mankind, a te...</td>\n",
       "      <td>Ridley Scott</td>\n",
       "      <td>Noomi Rapace, Logan Marshall-Green, Michael Fa...</td>\n",
       "      <td>2012.0</td>\n",
       "      <td>124</td>\n",
       "      <td>7.0</td>\n",
       "      <td>485820</td>\n",
       "      <td>126.46</td>\n",
       "      <td>65.0</td>\n",
       "    </tr>\n",
       "    <tr>\n",
       "      <th>2</th>\n",
       "      <td>3</td>\n",
       "      <td>Split</td>\n",
       "      <td>Horror,Thriller</td>\n",
       "      <td>Three girls are kidnapped by a man with a diag...</td>\n",
       "      <td>M. Night Shyamalan</td>\n",
       "      <td>James McAvoy, Anya Taylor-Joy, Haley Lu Richar...</td>\n",
       "      <td>2016.0</td>\n",
       "      <td>117</td>\n",
       "      <td>7.3</td>\n",
       "      <td>157606</td>\n",
       "      <td>138.12</td>\n",
       "      <td>62.0</td>\n",
       "    </tr>\n",
       "    <tr>\n",
       "      <th>3</th>\n",
       "      <td>4</td>\n",
       "      <td>Sing</td>\n",
       "      <td>Animation,Comedy,Family</td>\n",
       "      <td>In a city of humanoid animals, a hustling thea...</td>\n",
       "      <td>Christophe Lourdelet</td>\n",
       "      <td>Matthew McConaughey,Reese Witherspoon, Seth Ma...</td>\n",
       "      <td>NaN</td>\n",
       "      <td>108</td>\n",
       "      <td>7.2</td>\n",
       "      <td>60545</td>\n",
       "      <td>270.32</td>\n",
       "      <td>59.0</td>\n",
       "    </tr>\n",
       "    <tr>\n",
       "      <th>4</th>\n",
       "      <td>5</td>\n",
       "      <td>Suicide Squad</td>\n",
       "      <td>Action,Adventure,Fantasy</td>\n",
       "      <td>A secret government agency recruits some of th...</td>\n",
       "      <td>David Ayer</td>\n",
       "      <td>Will Smith, Jared Leto, Margot Robbie, Viola D...</td>\n",
       "      <td>2016.0</td>\n",
       "      <td>123</td>\n",
       "      <td>6.2</td>\n",
       "      <td>393727</td>\n",
       "      <td>325.02</td>\n",
       "      <td>40.0</td>\n",
       "    </tr>\n",
       "    <tr>\n",
       "      <th>...</th>\n",
       "      <td>...</td>\n",
       "      <td>...</td>\n",
       "      <td>...</td>\n",
       "      <td>...</td>\n",
       "      <td>...</td>\n",
       "      <td>...</td>\n",
       "      <td>...</td>\n",
       "      <td>...</td>\n",
       "      <td>...</td>\n",
       "      <td>...</td>\n",
       "      <td>...</td>\n",
       "      <td>...</td>\n",
       "    </tr>\n",
       "    <tr>\n",
       "      <th>995</th>\n",
       "      <td>996</td>\n",
       "      <td>Secret in Their Eyes</td>\n",
       "      <td>Crime,Drama,Mystery</td>\n",
       "      <td>A tight-knit team of rising investigators, alo...</td>\n",
       "      <td>Billy Ray</td>\n",
       "      <td>Chiwetel Ejiofor, Nicole Kidman, Julia Roberts...</td>\n",
       "      <td>NaN</td>\n",
       "      <td>111</td>\n",
       "      <td>6.2</td>\n",
       "      <td>27585</td>\n",
       "      <td>NaN</td>\n",
       "      <td>45.0</td>\n",
       "    </tr>\n",
       "    <tr>\n",
       "      <th>996</th>\n",
       "      <td>997</td>\n",
       "      <td>Hostel: Part II</td>\n",
       "      <td>Horror</td>\n",
       "      <td>Three American college students studying abroa...</td>\n",
       "      <td>Eli Roth</td>\n",
       "      <td>Lauren German, Heather Matarazzo, Bijou Philli...</td>\n",
       "      <td>NaN</td>\n",
       "      <td>94</td>\n",
       "      <td>5.5</td>\n",
       "      <td>73152</td>\n",
       "      <td>17.54</td>\n",
       "      <td>46.0</td>\n",
       "    </tr>\n",
       "    <tr>\n",
       "      <th>997</th>\n",
       "      <td>998</td>\n",
       "      <td>Step Up 2: The Streets</td>\n",
       "      <td>Drama,Music,Romance</td>\n",
       "      <td>Romantic sparks occur between two dance studen...</td>\n",
       "      <td>Jon M. Chu</td>\n",
       "      <td>Robert Hoffman, Briana Evigan, Cassie Ventura,...</td>\n",
       "      <td>2008.0</td>\n",
       "      <td>98</td>\n",
       "      <td>6.2</td>\n",
       "      <td>70699</td>\n",
       "      <td>58.01</td>\n",
       "      <td>50.0</td>\n",
       "    </tr>\n",
       "    <tr>\n",
       "      <th>998</th>\n",
       "      <td>999</td>\n",
       "      <td>Search Party</td>\n",
       "      <td>Adventure,Comedy</td>\n",
       "      <td>A pair of friends embark on a mission to reuni...</td>\n",
       "      <td>Scot Armstrong</td>\n",
       "      <td>Adam Pally, T.J. Miller, Thomas Middleditch,Sh...</td>\n",
       "      <td>2014.0</td>\n",
       "      <td>93</td>\n",
       "      <td>5.6</td>\n",
       "      <td>4881</td>\n",
       "      <td>NaN</td>\n",
       "      <td>22.0</td>\n",
       "    </tr>\n",
       "    <tr>\n",
       "      <th>999</th>\n",
       "      <td>1000</td>\n",
       "      <td>Nine Lives</td>\n",
       "      <td>Comedy,Family,Fantasy</td>\n",
       "      <td>A stuffy businessman finds himself trapped ins...</td>\n",
       "      <td>Barry Sonnenfeld</td>\n",
       "      <td>Kevin Spacey, Jennifer Garner, Robbie Amell,Ch...</td>\n",
       "      <td>2016.0</td>\n",
       "      <td>87</td>\n",
       "      <td>5.3</td>\n",
       "      <td>12435</td>\n",
       "      <td>19.64</td>\n",
       "      <td>11.0</td>\n",
       "    </tr>\n",
       "  </tbody>\n",
       "</table>\n",
       "<p>1000 rows × 12 columns</p>\n",
       "</div>"
      ],
      "text/plain": [
       "     Rank                    Title                     Genre  \\\n",
       "0       1  Guardians of the Galaxy   Action,Adventure,Sci-Fi   \n",
       "1       2               Prometheus  Adventure,Mystery,Sci-Fi   \n",
       "2       3                    Split           Horror,Thriller   \n",
       "3       4                     Sing   Animation,Comedy,Family   \n",
       "4       5            Suicide Squad  Action,Adventure,Fantasy   \n",
       "..    ...                      ...                       ...   \n",
       "995   996     Secret in Their Eyes       Crime,Drama,Mystery   \n",
       "996   997          Hostel: Part II                    Horror   \n",
       "997   998   Step Up 2: The Streets       Drama,Music,Romance   \n",
       "998   999             Search Party          Adventure,Comedy   \n",
       "999  1000               Nine Lives     Comedy,Family,Fantasy   \n",
       "\n",
       "                                           Description              Director  \\\n",
       "0    A group of intergalactic criminals are forced ...            James Gunn   \n",
       "1    Following clues to the origin of mankind, a te...          Ridley Scott   \n",
       "2    Three girls are kidnapped by a man with a diag...    M. Night Shyamalan   \n",
       "3    In a city of humanoid animals, a hustling thea...  Christophe Lourdelet   \n",
       "4    A secret government agency recruits some of th...            David Ayer   \n",
       "..                                                 ...                   ...   \n",
       "995  A tight-knit team of rising investigators, alo...             Billy Ray   \n",
       "996  Three American college students studying abroa...              Eli Roth   \n",
       "997  Romantic sparks occur between two dance studen...            Jon M. Chu   \n",
       "998  A pair of friends embark on a mission to reuni...        Scot Armstrong   \n",
       "999  A stuffy businessman finds himself trapped ins...      Barry Sonnenfeld   \n",
       "\n",
       "                                                Actors    Year  \\\n",
       "0    Chris Pratt, Vin Diesel, Bradley Cooper, Zoe S...  2014.0   \n",
       "1    Noomi Rapace, Logan Marshall-Green, Michael Fa...  2012.0   \n",
       "2    James McAvoy, Anya Taylor-Joy, Haley Lu Richar...  2016.0   \n",
       "3    Matthew McConaughey,Reese Witherspoon, Seth Ma...     NaN   \n",
       "4    Will Smith, Jared Leto, Margot Robbie, Viola D...  2016.0   \n",
       "..                                                 ...     ...   \n",
       "995  Chiwetel Ejiofor, Nicole Kidman, Julia Roberts...     NaN   \n",
       "996  Lauren German, Heather Matarazzo, Bijou Philli...     NaN   \n",
       "997  Robert Hoffman, Briana Evigan, Cassie Ventura,...  2008.0   \n",
       "998  Adam Pally, T.J. Miller, Thomas Middleditch,Sh...  2014.0   \n",
       "999  Kevin Spacey, Jennifer Garner, Robbie Amell,Ch...  2016.0   \n",
       "\n",
       "     Runtime (Minutes)  Rating   Votes  Revenue (Millions)  Metascore  \n",
       "0                  121     8.1  757074              333.13       76.0  \n",
       "1                  124     7.0  485820              126.46       65.0  \n",
       "2                  117     7.3  157606              138.12       62.0  \n",
       "3                  108     7.2   60545              270.32       59.0  \n",
       "4                  123     6.2  393727              325.02       40.0  \n",
       "..                 ...     ...     ...                 ...        ...  \n",
       "995                111     6.2   27585                 NaN       45.0  \n",
       "996                 94     5.5   73152               17.54       46.0  \n",
       "997                 98     6.2   70699               58.01       50.0  \n",
       "998                 93     5.6    4881                 NaN       22.0  \n",
       "999                 87     5.3   12435               19.64       11.0  \n",
       "\n",
       "[1000 rows x 12 columns]"
      ]
     },
     "execution_count": 48,
     "metadata": {},
     "output_type": "execute_result"
    }
   ],
   "source": [
    "df"
   ]
  },
  {
   "cell_type": "code",
   "execution_count": 49,
   "metadata": {},
   "outputs": [
    {
     "data": {
      "text/plain": [
       "Rank                    0\n",
       "Title                   0\n",
       "Genre                   0\n",
       "Description             0\n",
       "Director                0\n",
       "Actors                  0\n",
       "Year                   10\n",
       "Runtime (Minutes)       0\n",
       "Rating                  0\n",
       "Votes                   0\n",
       "Revenue (Millions)    128\n",
       "Metascore              64\n",
       "dtype: int64"
      ]
     },
     "execution_count": 49,
     "metadata": {},
     "output_type": "execute_result"
    }
   ],
   "source": [
    "df.isnull().sum()"
   ]
  },
  {
   "cell_type": "code",
   "execution_count": 50,
   "metadata": {},
   "outputs": [
    {
     "data": {
      "text/plain": [
       "0      333.13\n",
       "1      126.46\n",
       "2      138.12\n",
       "3      270.32\n",
       "4      325.02\n",
       "        ...  \n",
       "995       NaN\n",
       "996     17.54\n",
       "997     58.01\n",
       "998       NaN\n",
       "999     19.64\n",
       "Name: Revenue (Millions), Length: 1000, dtype: float64"
      ]
     },
     "execution_count": 50,
     "metadata": {},
     "output_type": "execute_result"
    }
   ],
   "source": [
    "df[\"Revenue (Millions)\"]"
   ]
  },
  {
   "cell_type": "code",
   "execution_count": 51,
   "metadata": {
    "collapsed": true
   },
   "outputs": [],
   "source": [
    "r=df[\"Revenue (Millions)\"]"
   ]
  },
  {
   "cell_type": "code",
   "execution_count": 52,
   "metadata": {},
   "outputs": [
    {
     "data": {
      "text/plain": [
       "0      333.13\n",
       "1      126.46\n",
       "2      138.12\n",
       "3      270.32\n",
       "4      325.02\n",
       "        ...  \n",
       "995       NaN\n",
       "996     17.54\n",
       "997     58.01\n",
       "998       NaN\n",
       "999     19.64\n",
       "Name: Revenue (Millions), Length: 1000, dtype: float64"
      ]
     },
     "execution_count": 52,
     "metadata": {},
     "output_type": "execute_result"
    }
   ],
   "source": [
    "r"
   ]
  },
  {
   "cell_type": "code",
   "execution_count": 53,
   "metadata": {},
   "outputs": [
    {
     "data": {
      "text/plain": [
       "82.95637614678897"
      ]
     },
     "execution_count": 53,
     "metadata": {},
     "output_type": "execute_result"
    }
   ],
   "source": [
    "r.mean()"
   ]
  },
  {
   "cell_type": "code",
   "execution_count": 59,
   "metadata": {},
   "outputs": [
    {
     "data": {
      "text/plain": [
       "128"
      ]
     },
     "execution_count": 59,
     "metadata": {},
     "output_type": "execute_result"
    }
   ],
   "source": [
    "r.isnull().sum()"
   ]
  },
  {
   "cell_type": "code",
   "execution_count": 61,
   "metadata": {
    "collapsed": true
   },
   "outputs": [],
   "source": [
    "r.fillna(r.mean,inplace=True)"
   ]
  },
  {
   "cell_type": "code",
   "execution_count": 63,
   "metadata": {},
   "outputs": [
    {
     "data": {
      "text/plain": [
       "0"
      ]
     },
     "execution_count": 63,
     "metadata": {},
     "output_type": "execute_result"
    }
   ],
   "source": [
    "r.isnull().sum()"
   ]
  },
  {
   "cell_type": "code",
   "execution_count": 64,
   "metadata": {
    "collapsed": true
   },
   "outputs": [],
   "source": [
    "import seaborn as sns\n"
   ]
  },
  {
   "cell_type": "code",
   "execution_count": 65,
   "metadata": {
    "collapsed": true
   },
   "outputs": [],
   "source": [
    "a=sns.get_dataset_names()"
   ]
  },
  {
   "cell_type": "code",
   "execution_count": 66,
   "metadata": {},
   "outputs": [
    {
     "data": {
      "text/plain": [
       "['anagrams',\n",
       " 'anscombe',\n",
       " 'attention',\n",
       " 'brain_networks',\n",
       " 'car_crashes',\n",
       " 'diamonds',\n",
       " 'dots',\n",
       " 'dowjones',\n",
       " 'exercise',\n",
       " 'flights',\n",
       " 'fmri',\n",
       " 'geyser',\n",
       " 'glue',\n",
       " 'healthexp',\n",
       " 'iris',\n",
       " 'mpg',\n",
       " 'penguins',\n",
       " 'planets',\n",
       " 'seaice',\n",
       " 'taxis',\n",
       " 'tips',\n",
       " 'titanic']"
      ]
     },
     "execution_count": 66,
     "metadata": {},
     "output_type": "execute_result"
    }
   ],
   "source": [
    "a"
   ]
  },
  {
   "cell_type": "code",
   "execution_count": 68,
   "metadata": {
    "collapsed": true
   },
   "outputs": [],
   "source": [
    "df=sns.load_dataset(\"diamonds\")"
   ]
  },
  {
   "cell_type": "code",
   "execution_count": 69,
   "metadata": {},
   "outputs": [
    {
     "data": {
      "text/html": [
       "<div>\n",
       "<style scoped>\n",
       "    .dataframe tbody tr th:only-of-type {\n",
       "        vertical-align: middle;\n",
       "    }\n",
       "\n",
       "    .dataframe tbody tr th {\n",
       "        vertical-align: top;\n",
       "    }\n",
       "\n",
       "    .dataframe thead th {\n",
       "        text-align: right;\n",
       "    }\n",
       "</style>\n",
       "<table border=\"1\" class=\"dataframe\">\n",
       "  <thead>\n",
       "    <tr style=\"text-align: right;\">\n",
       "      <th></th>\n",
       "      <th>carat</th>\n",
       "      <th>cut</th>\n",
       "      <th>color</th>\n",
       "      <th>clarity</th>\n",
       "      <th>depth</th>\n",
       "      <th>table</th>\n",
       "      <th>price</th>\n",
       "      <th>x</th>\n",
       "      <th>y</th>\n",
       "      <th>z</th>\n",
       "    </tr>\n",
       "  </thead>\n",
       "  <tbody>\n",
       "    <tr>\n",
       "      <th>0</th>\n",
       "      <td>0.23</td>\n",
       "      <td>Ideal</td>\n",
       "      <td>E</td>\n",
       "      <td>SI2</td>\n",
       "      <td>61.5</td>\n",
       "      <td>55.0</td>\n",
       "      <td>326</td>\n",
       "      <td>3.95</td>\n",
       "      <td>3.98</td>\n",
       "      <td>2.43</td>\n",
       "    </tr>\n",
       "    <tr>\n",
       "      <th>1</th>\n",
       "      <td>0.21</td>\n",
       "      <td>Premium</td>\n",
       "      <td>E</td>\n",
       "      <td>SI1</td>\n",
       "      <td>59.8</td>\n",
       "      <td>61.0</td>\n",
       "      <td>326</td>\n",
       "      <td>3.89</td>\n",
       "      <td>3.84</td>\n",
       "      <td>2.31</td>\n",
       "    </tr>\n",
       "    <tr>\n",
       "      <th>2</th>\n",
       "      <td>0.23</td>\n",
       "      <td>Good</td>\n",
       "      <td>E</td>\n",
       "      <td>VS1</td>\n",
       "      <td>56.9</td>\n",
       "      <td>65.0</td>\n",
       "      <td>327</td>\n",
       "      <td>4.05</td>\n",
       "      <td>4.07</td>\n",
       "      <td>2.31</td>\n",
       "    </tr>\n",
       "    <tr>\n",
       "      <th>3</th>\n",
       "      <td>0.29</td>\n",
       "      <td>Premium</td>\n",
       "      <td>I</td>\n",
       "      <td>VS2</td>\n",
       "      <td>62.4</td>\n",
       "      <td>58.0</td>\n",
       "      <td>334</td>\n",
       "      <td>4.20</td>\n",
       "      <td>4.23</td>\n",
       "      <td>2.63</td>\n",
       "    </tr>\n",
       "    <tr>\n",
       "      <th>4</th>\n",
       "      <td>0.31</td>\n",
       "      <td>Good</td>\n",
       "      <td>J</td>\n",
       "      <td>SI2</td>\n",
       "      <td>63.3</td>\n",
       "      <td>58.0</td>\n",
       "      <td>335</td>\n",
       "      <td>4.34</td>\n",
       "      <td>4.35</td>\n",
       "      <td>2.75</td>\n",
       "    </tr>\n",
       "    <tr>\n",
       "      <th>...</th>\n",
       "      <td>...</td>\n",
       "      <td>...</td>\n",
       "      <td>...</td>\n",
       "      <td>...</td>\n",
       "      <td>...</td>\n",
       "      <td>...</td>\n",
       "      <td>...</td>\n",
       "      <td>...</td>\n",
       "      <td>...</td>\n",
       "      <td>...</td>\n",
       "    </tr>\n",
       "    <tr>\n",
       "      <th>53935</th>\n",
       "      <td>0.72</td>\n",
       "      <td>Ideal</td>\n",
       "      <td>D</td>\n",
       "      <td>SI1</td>\n",
       "      <td>60.8</td>\n",
       "      <td>57.0</td>\n",
       "      <td>2757</td>\n",
       "      <td>5.75</td>\n",
       "      <td>5.76</td>\n",
       "      <td>3.50</td>\n",
       "    </tr>\n",
       "    <tr>\n",
       "      <th>53936</th>\n",
       "      <td>0.72</td>\n",
       "      <td>Good</td>\n",
       "      <td>D</td>\n",
       "      <td>SI1</td>\n",
       "      <td>63.1</td>\n",
       "      <td>55.0</td>\n",
       "      <td>2757</td>\n",
       "      <td>5.69</td>\n",
       "      <td>5.75</td>\n",
       "      <td>3.61</td>\n",
       "    </tr>\n",
       "    <tr>\n",
       "      <th>53937</th>\n",
       "      <td>0.70</td>\n",
       "      <td>Very Good</td>\n",
       "      <td>D</td>\n",
       "      <td>SI1</td>\n",
       "      <td>62.8</td>\n",
       "      <td>60.0</td>\n",
       "      <td>2757</td>\n",
       "      <td>5.66</td>\n",
       "      <td>5.68</td>\n",
       "      <td>3.56</td>\n",
       "    </tr>\n",
       "    <tr>\n",
       "      <th>53938</th>\n",
       "      <td>0.86</td>\n",
       "      <td>Premium</td>\n",
       "      <td>H</td>\n",
       "      <td>SI2</td>\n",
       "      <td>61.0</td>\n",
       "      <td>58.0</td>\n",
       "      <td>2757</td>\n",
       "      <td>6.15</td>\n",
       "      <td>6.12</td>\n",
       "      <td>3.74</td>\n",
       "    </tr>\n",
       "    <tr>\n",
       "      <th>53939</th>\n",
       "      <td>0.75</td>\n",
       "      <td>Ideal</td>\n",
       "      <td>D</td>\n",
       "      <td>SI2</td>\n",
       "      <td>62.2</td>\n",
       "      <td>55.0</td>\n",
       "      <td>2757</td>\n",
       "      <td>5.83</td>\n",
       "      <td>5.87</td>\n",
       "      <td>3.64</td>\n",
       "    </tr>\n",
       "  </tbody>\n",
       "</table>\n",
       "<p>53940 rows × 10 columns</p>\n",
       "</div>"
      ],
      "text/plain": [
       "       carat        cut color clarity  depth  table  price     x     y     z\n",
       "0       0.23      Ideal     E     SI2   61.5   55.0    326  3.95  3.98  2.43\n",
       "1       0.21    Premium     E     SI1   59.8   61.0    326  3.89  3.84  2.31\n",
       "2       0.23       Good     E     VS1   56.9   65.0    327  4.05  4.07  2.31\n",
       "3       0.29    Premium     I     VS2   62.4   58.0    334  4.20  4.23  2.63\n",
       "4       0.31       Good     J     SI2   63.3   58.0    335  4.34  4.35  2.75\n",
       "...      ...        ...   ...     ...    ...    ...    ...   ...   ...   ...\n",
       "53935   0.72      Ideal     D     SI1   60.8   57.0   2757  5.75  5.76  3.50\n",
       "53936   0.72       Good     D     SI1   63.1   55.0   2757  5.69  5.75  3.61\n",
       "53937   0.70  Very Good     D     SI1   62.8   60.0   2757  5.66  5.68  3.56\n",
       "53938   0.86    Premium     H     SI2   61.0   58.0   2757  6.15  6.12  3.74\n",
       "53939   0.75      Ideal     D     SI2   62.2   55.0   2757  5.83  5.87  3.64\n",
       "\n",
       "[53940 rows x 10 columns]"
      ]
     },
     "execution_count": 69,
     "metadata": {},
     "output_type": "execute_result"
    }
   ],
   "source": [
    "df"
   ]
  },
  {
   "cell_type": "code",
   "execution_count": 70,
   "metadata": {},
   "outputs": [
    {
     "data": {
      "text/plain": [
       "carat  cut    color  clarity  depth  table  price  x      y      z    \n",
       "False  False  False  False    False  False  False  False  False  False    53940\n",
       "dtype: int64"
      ]
     },
     "execution_count": 70,
     "metadata": {},
     "output_type": "execute_result"
    }
   ],
   "source": [
    "df.isnull().value_counts()"
   ]
  },
  {
   "cell_type": "code",
   "execution_count": 71,
   "metadata": {},
   "outputs": [
    {
     "data": {
      "text/plain": [
       "carat      0\n",
       "cut        0\n",
       "color      0\n",
       "clarity    0\n",
       "depth      0\n",
       "table      0\n",
       "price      0\n",
       "x          0\n",
       "y          0\n",
       "z          0\n",
       "dtype: int64"
      ]
     },
     "execution_count": 71,
     "metadata": {},
     "output_type": "execute_result"
    }
   ],
   "source": [
    "df.isnull().sum()"
   ]
  },
  {
   "cell_type": "code",
   "execution_count": 72,
   "metadata": {
    "collapsed": true
   },
   "outputs": [],
   "source": [
    "import matplotlib.pyplot as plt"
   ]
  },
  {
   "cell_type": "code",
   "execution_count": 73,
   "metadata": {
    "collapsed": true
   },
   "outputs": [],
   "source": [
    "import numpy as np\n"
   ]
  },
  {
   "cell_type": "code",
   "execution_count": 74,
   "metadata": {
    "collapsed": true
   },
   "outputs": [],
   "source": [
    "import seaborn as sns"
   ]
  },
  {
   "cell_type": "code",
   "execution_count": 75,
   "metadata": {
    "collapsed": true
   },
   "outputs": [],
   "source": [
    "df=sns.load_dataset(\"iris\")"
   ]
  },
  {
   "cell_type": "code",
   "execution_count": 76,
   "metadata": {},
   "outputs": [
    {
     "data": {
      "text/html": [
       "<div>\n",
       "<style scoped>\n",
       "    .dataframe tbody tr th:only-of-type {\n",
       "        vertical-align: middle;\n",
       "    }\n",
       "\n",
       "    .dataframe tbody tr th {\n",
       "        vertical-align: top;\n",
       "    }\n",
       "\n",
       "    .dataframe thead th {\n",
       "        text-align: right;\n",
       "    }\n",
       "</style>\n",
       "<table border=\"1\" class=\"dataframe\">\n",
       "  <thead>\n",
       "    <tr style=\"text-align: right;\">\n",
       "      <th></th>\n",
       "      <th>sepal_length</th>\n",
       "      <th>sepal_width</th>\n",
       "      <th>petal_length</th>\n",
       "      <th>petal_width</th>\n",
       "      <th>species</th>\n",
       "    </tr>\n",
       "  </thead>\n",
       "  <tbody>\n",
       "    <tr>\n",
       "      <th>0</th>\n",
       "      <td>5.1</td>\n",
       "      <td>3.5</td>\n",
       "      <td>1.4</td>\n",
       "      <td>0.2</td>\n",
       "      <td>setosa</td>\n",
       "    </tr>\n",
       "    <tr>\n",
       "      <th>1</th>\n",
       "      <td>4.9</td>\n",
       "      <td>3.0</td>\n",
       "      <td>1.4</td>\n",
       "      <td>0.2</td>\n",
       "      <td>setosa</td>\n",
       "    </tr>\n",
       "    <tr>\n",
       "      <th>2</th>\n",
       "      <td>4.7</td>\n",
       "      <td>3.2</td>\n",
       "      <td>1.3</td>\n",
       "      <td>0.2</td>\n",
       "      <td>setosa</td>\n",
       "    </tr>\n",
       "    <tr>\n",
       "      <th>3</th>\n",
       "      <td>4.6</td>\n",
       "      <td>3.1</td>\n",
       "      <td>1.5</td>\n",
       "      <td>0.2</td>\n",
       "      <td>setosa</td>\n",
       "    </tr>\n",
       "    <tr>\n",
       "      <th>4</th>\n",
       "      <td>5.0</td>\n",
       "      <td>3.6</td>\n",
       "      <td>1.4</td>\n",
       "      <td>0.2</td>\n",
       "      <td>setosa</td>\n",
       "    </tr>\n",
       "    <tr>\n",
       "      <th>...</th>\n",
       "      <td>...</td>\n",
       "      <td>...</td>\n",
       "      <td>...</td>\n",
       "      <td>...</td>\n",
       "      <td>...</td>\n",
       "    </tr>\n",
       "    <tr>\n",
       "      <th>145</th>\n",
       "      <td>6.7</td>\n",
       "      <td>3.0</td>\n",
       "      <td>5.2</td>\n",
       "      <td>2.3</td>\n",
       "      <td>virginica</td>\n",
       "    </tr>\n",
       "    <tr>\n",
       "      <th>146</th>\n",
       "      <td>6.3</td>\n",
       "      <td>2.5</td>\n",
       "      <td>5.0</td>\n",
       "      <td>1.9</td>\n",
       "      <td>virginica</td>\n",
       "    </tr>\n",
       "    <tr>\n",
       "      <th>147</th>\n",
       "      <td>6.5</td>\n",
       "      <td>3.0</td>\n",
       "      <td>5.2</td>\n",
       "      <td>2.0</td>\n",
       "      <td>virginica</td>\n",
       "    </tr>\n",
       "    <tr>\n",
       "      <th>148</th>\n",
       "      <td>6.2</td>\n",
       "      <td>3.4</td>\n",
       "      <td>5.4</td>\n",
       "      <td>2.3</td>\n",
       "      <td>virginica</td>\n",
       "    </tr>\n",
       "    <tr>\n",
       "      <th>149</th>\n",
       "      <td>5.9</td>\n",
       "      <td>3.0</td>\n",
       "      <td>5.1</td>\n",
       "      <td>1.8</td>\n",
       "      <td>virginica</td>\n",
       "    </tr>\n",
       "  </tbody>\n",
       "</table>\n",
       "<p>150 rows × 5 columns</p>\n",
       "</div>"
      ],
      "text/plain": [
       "     sepal_length  sepal_width  petal_length  petal_width    species\n",
       "0             5.1          3.5           1.4          0.2     setosa\n",
       "1             4.9          3.0           1.4          0.2     setosa\n",
       "2             4.7          3.2           1.3          0.2     setosa\n",
       "3             4.6          3.1           1.5          0.2     setosa\n",
       "4             5.0          3.6           1.4          0.2     setosa\n",
       "..            ...          ...           ...          ...        ...\n",
       "145           6.7          3.0           5.2          2.3  virginica\n",
       "146           6.3          2.5           5.0          1.9  virginica\n",
       "147           6.5          3.0           5.2          2.0  virginica\n",
       "148           6.2          3.4           5.4          2.3  virginica\n",
       "149           5.9          3.0           5.1          1.8  virginica\n",
       "\n",
       "[150 rows x 5 columns]"
      ]
     },
     "execution_count": 76,
     "metadata": {},
     "output_type": "execute_result"
    }
   ],
   "source": [
    "df"
   ]
  },
  {
   "cell_type": "code",
   "execution_count": 77,
   "metadata": {},
   "outputs": [
    {
     "data": {
      "text/plain": [
       "Index(['sepal_length', 'sepal_width', 'petal_length', 'petal_width',\n",
       "       'species'],\n",
       "      dtype='object')"
      ]
     },
     "execution_count": 77,
     "metadata": {},
     "output_type": "execute_result"
    }
   ],
   "source": [
    "df.columns"
   ]
  },
  {
   "cell_type": "code",
   "execution_count": 79,
   "metadata": {
    "collapsed": true
   },
   "outputs": [],
   "source": [
    "x=df[\"sepal_length\"]"
   ]
  },
  {
   "cell_type": "code",
   "execution_count": 80,
   "metadata": {
    "collapsed": true
   },
   "outputs": [],
   "source": [
    "y=df[\"petal_length\"]"
   ]
  },
  {
   "cell_type": "code",
   "execution_count": 81,
   "metadata": {},
   "outputs": [
    {
     "data": {
      "text/plain": [
       "[<matplotlib.lines.Line2D at 0x1fdd4125d68>]"
      ]
     },
     "execution_count": 81,
     "metadata": {},
     "output_type": "execute_result"
    }
   ],
   "source": [
    "plt.plot(x,y)"
   ]
  },
  {
   "cell_type": "code",
   "execution_count": 82,
   "metadata": {},
   "outputs": [
    {
     "data": {
      "image/png": "[encoded data removed]",
      "text/plain": [
       "<Figure size 432x288 with 1 Axes>"
      ]
     },
     "metadata": {},
     "output_type": "display_data"
    }
   ],
   "source": [
    "plt.show()"
   ]
  },
  {
   "cell_type": "code",
   "execution_count": 83,
   "metadata": {},
   "outputs": [
    {
     "data": {
      "text/plain": [
       "Text(0, 0.5, 'petal')"
      ]
     },
     "execution_count": 83,
     "metadata": {},
     "output_type": "execute_result"
    }
   ],
   "source": [
    "plt.title(\"Bar graph\")\n",
    "plt.xlabel(\"sepal\")\n",
    "plt.ylabel(\"petal\")"
   ]
  },
  {
   "cell_type": "code",
   "execution_count": 86,
   "metadata": {},
   "outputs": [
    {
     "data": {
      "image/png": "[encoded data removed]",
      "text/plain": [
       "<Figure size 432x288 with 1 Axes>"
      ]
     },
     "metadata": {},
     "output_type": "display_data"
    }
   ],
   "source": [
    "\n",
    "x=df[\"sepal_length\"]\n",
    "y=df[\"petal_length\"]\n",
    "plt.plot(x,y)\n",
    "plt.title(\"Bar graph\")\n",
    "plt.xlabel(\"sepal\")\n",
    "plt.ylabel(\"petal\")\n",
    "plt.show()"
   ]
  },
  {
   "cell_type": "code",
   "execution_count": 87,
   "metadata": {},
   "outputs": [
    {
     "data": {
      "image/png": "[encoded data removed]",
      "text/plain": [
       "<Figure size 432x288 with 1 Axes>"
      ]
     },
     "metadata": {},
     "output_type": "display_data"
    }
   ],
   "source": [
    "x=df[\"sepal_length\"]\n",
    "y=df[\"petal_length\"]\n",
    "plt.bar(x,y)\n",
    "plt.title(\"Bar graph\")\n",
    "plt.xlabel(\"sepal\")\n",
    "plt.ylabel(\"petal\")\n",
    "plt.show()"
   ]
  },
  {
   "cell_type": "code",
   "execution_count": 88,
   "metadata": {},
   "outputs": [
    {
     "ename": "AttributeError",
     "evalue": "module 'matplotlib.pyplot' has no attribute 'scatterplot'",
     "output_type": "error",
     "traceback": [
      "\u001b[1;31m---------------------------------------------------------------------------\u001b[0m",
      "\u001b[1;31mAttributeError\u001b[0m                            Traceback (most recent call last)",
      "\u001b[1;32m<ipython-input-88-042ebdfcc4b3>\u001b[0m in \u001b[0;36m<module>\u001b[1;34m()\u001b[0m\n\u001b[0;32m      1\u001b[0m \u001b[0mx\u001b[0m\u001b[1;33m=\u001b[0m\u001b[0mdf\u001b[0m\u001b[1;33m[\u001b[0m\u001b[1;34m\"sepal_length\"\u001b[0m\u001b[1;33m]\u001b[0m\u001b[1;33m\u001b[0m\u001b[0m\n\u001b[0;32m      2\u001b[0m \u001b[0my\u001b[0m\u001b[1;33m=\u001b[0m\u001b[0mdf\u001b[0m\u001b[1;33m[\u001b[0m\u001b[1;34m\"petal_length\"\u001b[0m\u001b[1;33m]\u001b[0m\u001b[1;33m\u001b[0m\u001b[0m\n\u001b[1;32m----> 3\u001b[1;33m \u001b[0mplt\u001b[0m\u001b[1;33m.\u001b[0m\u001b[0mscatterplot\u001b[0m\u001b[1;33m(\u001b[0m\u001b[0mx\u001b[0m\u001b[1;33m,\u001b[0m\u001b[0my\u001b[0m\u001b[1;33m)\u001b[0m\u001b[1;33m\u001b[0m\u001b[0m\n\u001b[0m\u001b[0;32m      4\u001b[0m \u001b[0mplt\u001b[0m\u001b[1;33m.\u001b[0m\u001b[0mtitle\u001b[0m\u001b[1;33m(\u001b[0m\u001b[1;34m\"Bar graph\"\u001b[0m\u001b[1;33m)\u001b[0m\u001b[1;33m\u001b[0m\u001b[0m\n\u001b[0;32m      5\u001b[0m \u001b[0mplt\u001b[0m\u001b[1;33m.\u001b[0m\u001b[0mxlabel\u001b[0m\u001b[1;33m(\u001b[0m\u001b[1;34m\"sepal\"\u001b[0m\u001b[1;33m)\u001b[0m\u001b[1;33m\u001b[0m\u001b[0m\n",
      "\u001b[1;31mAttributeError\u001b[0m: module 'matplotlib.pyplot' has no attribute 'scatterplot'"
     ]
    }
   ],
   "source": [
    "x=df[\"sepal_length\"]\n",
    "y=df[\"petal_length\"]\n",
    "plt.scatterplot(x,y)\n",
    "plt.title(\"Bar graph\")\n",
    "plt.xlabel(\"sepal\")\n",
    "plt.ylabel(\"petal\")\n",
    "plt.show()"
   ]
  },
  {
   "cell_type": "code",
   "execution_count": 94,
   "metadata": {},
   "outputs": [
    {
     "data": {
      "image/png": "[encoded data removed]",
      "text/plain": [
       "<Figure size 432x288 with 1 Axes>"
      ]
     },
     "metadata": {},
     "output_type": "display_data"
    }
   ],
   "source": [
    "x=[\"a\",\"b\",\"c\",\"d\"]\n",
    "v1=[2,4,6,8]\n",
    "v2=[3,6,9,12]\n",
    "v3=[4,8,12,16]\n",
    "bar_width=0.35\n",
    "plt.bar(x,v1 ,label=\"set1\",color=\"orange\")\n",
    "plt.bar(x,v2 ,label=\"set2\",color=\"Lavender\")\n",
    "plt.bar(x,v3 ,label=\"set3\",color=\"blue\")\n",
    "plt.legend()\n",
    "plt.show()\n"
   ]
  },
  {
   "cell_type": "code",
   "execution_count": 96,
   "metadata": {
    "collapsed": true
   },
   "outputs": [],
   "source": [
    "items=np.array([\"Electronics\",\"Housing\",\"Marketing\",\"Sales\"])"
   ]
  },
  {
   "cell_type": "code",
   "execution_count": 97,
   "metadata": {
    "collapsed": true
   },
   "outputs": [],
   "source": [
    "price=np.array([10000,25000,9000,16900])"
   ]
  },
  {
   "cell_type": "code",
   "execution_count": 100,
   "metadata": {},
   "outputs": [
    {
     "ename": "AttributeError",
     "evalue": "'numpy.ndarray' object has no attribute 'xlabel'",
     "output_type": "error",
     "traceback": [
      "\u001b[1;31m---------------------------------------------------------------------------\u001b[0m",
      "\u001b[1;31mAttributeError\u001b[0m                            Traceback (most recent call last)",
      "\u001b[1;32m<ipython-input-100-7e1e2eb5bd08>\u001b[0m in \u001b[0;36m<module>\u001b[1;34m()\u001b[0m\n\u001b[1;32m----> 1\u001b[1;33m \u001b[0mplt\u001b[0m\u001b[1;33m.\u001b[0m\u001b[0mxlabel\u001b[0m\u001b[1;33m(\u001b[0m\u001b[1;34m\"categories\"\u001b[0m\u001b[1;33m)\u001b[0m\u001b[1;33m\u001b[0m\u001b[0m\n\u001b[0m\u001b[0;32m      2\u001b[0m \u001b[0mplt\u001b[0m\u001b[1;33m.\u001b[0m\u001b[0mylabel\u001b[0m\u001b[1;33m(\u001b[0m\u001b[1;34m\"price\"\u001b[0m\u001b[1;33m)\u001b[0m\u001b[1;33m\u001b[0m\u001b[0m\n\u001b[0;32m      3\u001b[0m \u001b[0mplt\u001b[0m\u001b[1;33m.\u001b[0m\u001b[0mtitle\u001b[0m\u001b[1;33m(\u001b[0m\u001b[1;34m\"Bar display\"\u001b[0m\u001b[1;33m)\u001b[0m\u001b[1;33m\u001b[0m\u001b[0m\n",
      "\u001b[1;31mAttributeError\u001b[0m: 'numpy.ndarray' object has no attribute 'xlabel'"
     ]
    }
   ],
   "source": [
    "plt.xlabel(\"categories\")\n",
    "plt.ylabel(\"price\")\n",
    "plt.title(\"Bar display\")"
   ]
  },
  {
   "cell_type": "code",
   "execution_count": 101,
   "metadata": {},
   "outputs": [
    {
     "ename": "AttributeError",
     "evalue": "'numpy.ndarray' object has no attribute 'xlabel'",
     "output_type": "error",
     "traceback": [
      "\u001b[1;31m---------------------------------------------------------------------------\u001b[0m",
      "\u001b[1;31mAttributeError\u001b[0m                            Traceback (most recent call last)",
      "\u001b[1;32m<ipython-input-101-309b50bc7750>\u001b[0m in \u001b[0;36m<module>\u001b[1;34m()\u001b[0m\n\u001b[0;32m      1\u001b[0m \u001b[0mshop\u001b[0m\u001b[1;33m=\u001b[0m\u001b[0mnp\u001b[0m\u001b[1;33m.\u001b[0m\u001b[0marray\u001b[0m\u001b[1;33m(\u001b[0m\u001b[1;33m[\u001b[0m\u001b[1;34m'Electronics'\u001b[0m\u001b[1;33m,\u001b[0m\u001b[1;34m'Grocery'\u001b[0m\u001b[1;33m,\u001b[0m\u001b[1;34m'Cloth'\u001b[0m\u001b[1;33m,\u001b[0m\u001b[1;34m'Household'\u001b[0m\u001b[1;33m]\u001b[0m\u001b[1;33m)\u001b[0m\u001b[1;33m\u001b[0m\u001b[0m\n\u001b[0;32m      2\u001b[0m \u001b[0mprice\u001b[0m\u001b[1;33m=\u001b[0m\u001b[0mnp\u001b[0m\u001b[1;33m.\u001b[0m\u001b[0marray\u001b[0m\u001b[1;33m(\u001b[0m\u001b[1;33m[\u001b[0m\u001b[1;36m60000\u001b[0m\u001b[1;33m,\u001b[0m\u001b[1;36m35000\u001b[0m\u001b[1;33m,\u001b[0m\u001b[1;36m39000\u001b[0m\u001b[1;33m,\u001b[0m\u001b[1;36m12890\u001b[0m\u001b[1;33m]\u001b[0m\u001b[1;33m)\u001b[0m\u001b[1;33m\u001b[0m\u001b[0m\n\u001b[1;32m----> 3\u001b[1;33m \u001b[0mplt\u001b[0m\u001b[1;33m.\u001b[0m\u001b[0mxlabel\u001b[0m\u001b[1;33m(\u001b[0m\u001b[1;34m'Categories'\u001b[0m\u001b[1;33m)\u001b[0m\u001b[1;33m\u001b[0m\u001b[0m\n\u001b[0m\u001b[0;32m      4\u001b[0m \u001b[0mplt\u001b[0m\u001b[1;33m.\u001b[0m\u001b[0mylabel\u001b[0m\u001b[1;33m(\u001b[0m\u001b[1;34m'Price'\u001b[0m\u001b[1;33m)\u001b[0m\u001b[1;33m\u001b[0m\u001b[0m\n\u001b[0;32m      5\u001b[0m \u001b[0mplt\u001b[0m\u001b[1;33m.\u001b[0m\u001b[0mtitle\u001b[0m\u001b[1;33m(\u001b[0m\u001b[1;34m'BarChart'\u001b[0m\u001b[1;33m)\u001b[0m\u001b[1;33m\u001b[0m\u001b[0m\n",
      "\u001b[1;31mAttributeError\u001b[0m: 'numpy.ndarray' object has no attribute 'xlabel'"
     ]
    }
   ],
   "source": [
    "shop=np.array(['Electronics','Grocery','Cloth','Household'])\n",
    "price=np.array([60000,35000,39000,12890])\n",
    "plt.xlabel('Categories')\n",
    "plt.ylabel('Price')\n",
    "plt.title('BarChart')\n",
    "plt.bar(shop,price)\n",
    "plt.show()"
   ]
  },
  {
   "cell_type": "code",
   "execution_count": 105,
   "metadata": {
    "collapsed": true
   },
   "outputs": [],
   "source": [
    "import numpy as np\n",
    "import matplotlib.pyplot as plt"
   ]
  },
  {
   "cell_type": "code",
   "execution_count": 106,
   "metadata": {},
   "outputs": [
    {
     "data": {
      "image/png": "[encoded data removed]",
      "text/plain": [
       "<Figure size 432x288 with 1 Axes>"
      ]
     },
     "metadata": {},
     "output_type": "display_data"
    }
   ],
   "source": [
    "shop=np.array(['Electronics','Grocery','Cloth','Household'])\n",
    "price=np.array([60000,35000,39000,12890])\n",
    "plt.xlabel('Categories')\n",
    "plt.ylabel('Price')\n",
    "plt.title('BarChart')\n",
    "plt.bar(shop,price)\n",
    "plt.show()"
   ]
  },
  {
   "cell_type": "code",
   "execution_count": 104,
   "metadata": {},
   "outputs": [
    {
     "data": {
      "image/png": "[encoded data removed]",
      "text/plain": [
       "<Figure size 432x288 with 1 Axes>"
      ]
     },
     "metadata": {},
     "output_type": "display_data"
    }
   ],
   "source": [
    "import matplotlib.pyplot as plt\n",
    "import numpy as np\n",
    "\n",
    "shop = np.array(['Electronics','Grocery','Cloth','Household'])\n",
    "price = np.array([60000, 35000, 39000, 12890])\n",
    "\n",
    "plt.bar(shop, price)\n",
    "plt.xlabel('Categories')\n",
    "plt.ylabel('Price')\n",
    "plt.title('Bar Chart')\n",
    "\n",
    "plt.show()\n"
   ]
  },
  {
   "cell_type": "code",
   "execution_count": 113,
   "metadata": {},
   "outputs": [
    {
     "data": {
      "image/png": "[encoded data removed]",
      "text/plain": [
       "<Figure size 432x288 with 1 Axes>"
      ]
     },
     "metadata": {},
     "output_type": "display_data"
    }
   ],
   "source": [
    "import matplotlib.pyplot as plt\n",
    "import numpy as np\n",
    "\n",
    "shop = np.array(['Electronics','Grocery','Cloth','Household'])\n",
    "price = np.array([60000, 35000, 39000, 12890])\n",
    "explode=(0,0.1,0,0)\n",
    "\n",
    "plt.pie(price, labels=shop,explode=explode,autopct=\"%1.1f%%\")\n",
    "\n",
    "plt.title('Pie Chart')\n",
    "\n",
    "plt.show()\n"
   ]
  },
  {
   "cell_type": "code",
   "execution_count": 114,
   "metadata": {
    "collapsed": true
   },
   "outputs": [],
   "source": [
    "import numpy as np\n",
    "import pandas as pd"
   ]
  },
  {
   "cell_type": "code",
   "execution_count": 115,
   "metadata": {
    "collapsed": true
   },
   "outputs": [],
   "source": [
    "import matplotlib.pyplot as plt"
   ]
  },
  {
   "cell_type": "code",
   "execution_count": 116,
   "metadata": {
    "collapsed": true
   },
   "outputs": [],
   "source": [
    "df=pd.read_csv(\"iris.csv\")"
   ]
  },
  {
   "cell_type": "code",
   "execution_count": 117,
   "metadata": {},
   "outputs": [
    {
     "data": {
      "text/html": [
       "<div>\n",
       "<style scoped>\n",
       "    .dataframe tbody tr th:only-of-type {\n",
       "        vertical-align: middle;\n",
       "    }\n",
       "\n",
       "    .dataframe tbody tr th {\n",
       "        vertical-align: top;\n",
       "    }\n",
       "\n",
       "    .dataframe thead th {\n",
       "        text-align: right;\n",
       "    }\n",
       "</style>\n",
       "<table border=\"1\" class=\"dataframe\">\n",
       "  <thead>\n",
       "    <tr style=\"text-align: right;\">\n",
       "      <th></th>\n",
       "      <th>sepal.length</th>\n",
       "      <th>sepal.width</th>\n",
       "      <th>petal.length</th>\n",
       "      <th>petal.width</th>\n",
       "      <th>variety</th>\n",
       "    </tr>\n",
       "  </thead>\n",
       "  <tbody>\n",
       "    <tr>\n",
       "      <th>0</th>\n",
       "      <td>5.1</td>\n",
       "      <td>3.5</td>\n",
       "      <td>1.4</td>\n",
       "      <td>0.2</td>\n",
       "      <td>Setosa</td>\n",
       "    </tr>\n",
       "    <tr>\n",
       "      <th>1</th>\n",
       "      <td>4.9</td>\n",
       "      <td>3.0</td>\n",
       "      <td>1.4</td>\n",
       "      <td>0.2</td>\n",
       "      <td>Setosa</td>\n",
       "    </tr>\n",
       "    <tr>\n",
       "      <th>2</th>\n",
       "      <td>4.7</td>\n",
       "      <td>3.2</td>\n",
       "      <td>1.3</td>\n",
       "      <td>0.2</td>\n",
       "      <td>Setosa</td>\n",
       "    </tr>\n",
       "    <tr>\n",
       "      <th>3</th>\n",
       "      <td>4.6</td>\n",
       "      <td>3.1</td>\n",
       "      <td>1.5</td>\n",
       "      <td>0.2</td>\n",
       "      <td>Setosa</td>\n",
       "    </tr>\n",
       "    <tr>\n",
       "      <th>4</th>\n",
       "      <td>5.0</td>\n",
       "      <td>3.6</td>\n",
       "      <td>1.4</td>\n",
       "      <td>0.2</td>\n",
       "      <td>Setosa</td>\n",
       "    </tr>\n",
       "    <tr>\n",
       "      <th>...</th>\n",
       "      <td>...</td>\n",
       "      <td>...</td>\n",
       "      <td>...</td>\n",
       "      <td>...</td>\n",
       "      <td>...</td>\n",
       "    </tr>\n",
       "    <tr>\n",
       "      <th>145</th>\n",
       "      <td>6.7</td>\n",
       "      <td>3.0</td>\n",
       "      <td>5.2</td>\n",
       "      <td>2.3</td>\n",
       "      <td>Virginica</td>\n",
       "    </tr>\n",
       "    <tr>\n",
       "      <th>146</th>\n",
       "      <td>6.3</td>\n",
       "      <td>2.5</td>\n",
       "      <td>5.0</td>\n",
       "      <td>1.9</td>\n",
       "      <td>Virginica</td>\n",
       "    </tr>\n",
       "    <tr>\n",
       "      <th>147</th>\n",
       "      <td>6.5</td>\n",
       "      <td>3.0</td>\n",
       "      <td>5.2</td>\n",
       "      <td>2.0</td>\n",
       "      <td>Virginica</td>\n",
       "    </tr>\n",
       "    <tr>\n",
       "      <th>148</th>\n",
       "      <td>6.2</td>\n",
       "      <td>3.4</td>\n",
       "      <td>5.4</td>\n",
       "      <td>2.3</td>\n",
       "      <td>Virginica</td>\n",
       "    </tr>\n",
       "    <tr>\n",
       "      <th>149</th>\n",
       "      <td>5.9</td>\n",
       "      <td>3.0</td>\n",
       "      <td>5.1</td>\n",
       "      <td>1.8</td>\n",
       "      <td>Virginica</td>\n",
       "    </tr>\n",
       "  </tbody>\n",
       "</table>\n",
       "<p>150 rows × 5 columns</p>\n",
       "</div>"
      ],
      "text/plain": [
       "     sepal.length  sepal.width  petal.length  petal.width    variety\n",
       "0             5.1          3.5           1.4          0.2     Setosa\n",
       "1             4.9          3.0           1.4          0.2     Setosa\n",
       "2             4.7          3.2           1.3          0.2     Setosa\n",
       "3             4.6          3.1           1.5          0.2     Setosa\n",
       "4             5.0          3.6           1.4          0.2     Setosa\n",
       "..            ...          ...           ...          ...        ...\n",
       "145           6.7          3.0           5.2          2.3  Virginica\n",
       "146           6.3          2.5           5.0          1.9  Virginica\n",
       "147           6.5          3.0           5.2          2.0  Virginica\n",
       "148           6.2          3.4           5.4          2.3  Virginica\n",
       "149           5.9          3.0           5.1          1.8  Virginica\n",
       "\n",
       "[150 rows x 5 columns]"
      ]
     },
     "execution_count": 117,
     "metadata": {},
     "output_type": "execute_result"
    }
   ],
   "source": [
    "df"
   ]
  },
  {
   "cell_type": "code",
   "execution_count": 118,
   "metadata": {
    "collapsed": true
   },
   "outputs": [],
   "source": [
    "x=df.iloc[:,[0,1,2,3]]"
   ]
  },
  {
   "cell_type": "code",
   "execution_count": 119,
   "metadata": {
    "collapsed": true
   },
   "outputs": [],
   "source": [
    "y=df.iloc[:,4]"
   ]
  },
  {
   "cell_type": "code",
   "execution_count": 120,
   "metadata": {
    "collapsed": true
   },
   "outputs": [],
   "source": [
    "from sklearn.preprocessing import LabelEncoder"
   ]
  },
  {
   "cell_type": "code",
   "execution_count": 121,
   "metadata": {
    "collapsed": true
   },
   "outputs": [],
   "source": [
    "labelencoder_y=LabelEncoder()"
   ]
  },
  {
   "cell_type": "code",
   "execution_count": 122,
   "metadata": {
    "collapsed": true
   },
   "outputs": [],
   "source": [
    "y=labelencoder_y.fit_transform(y)"
   ]
  },
  {
   "cell_type": "code",
   "execution_count": 123,
   "metadata": {},
   "outputs": [
    {
     "data": {
      "text/plain": [
       "array([0, 0, 0, 0, 0, 0, 0, 0, 0, 0, 0, 0, 0, 0, 0, 0, 0, 0, 0, 0, 0, 0,\n",
       "       0, 0, 0, 0, 0, 0, 0, 0, 0, 0, 0, 0, 0, 0, 0, 0, 0, 0, 0, 0, 0, 0,\n",
       "       0, 0, 0, 0, 0, 0, 1, 1, 1, 1, 1, 1, 1, 1, 1, 1, 1, 1, 1, 1, 1, 1,\n",
       "       1, 1, 1, 1, 1, 1, 1, 1, 1, 1, 1, 1, 1, 1, 1, 1, 1, 1, 1, 1, 1, 1,\n",
       "       1, 1, 1, 1, 1, 1, 1, 1, 1, 1, 1, 1, 2, 2, 2, 2, 2, 2, 2, 2, 2, 2,\n",
       "       2, 2, 2, 2, 2, 2, 2, 2, 2, 2, 2, 2, 2, 2, 2, 2, 2, 2, 2, 2, 2, 2,\n",
       "       2, 2, 2, 2, 2, 2, 2, 2, 2, 2, 2, 2, 2, 2, 2, 2, 2, 2], dtype=int64)"
      ]
     },
     "execution_count": 123,
     "metadata": {},
     "output_type": "execute_result"
    }
   ],
   "source": [
    "y"
   ]
  },
  {
   "cell_type": "code",
   "execution_count": 124,
   "metadata": {
    "collapsed": true
   },
   "outputs": [],
   "source": [
    "from sklearn.model_selection import train_test_split"
   ]
  },
  {
   "cell_type": "code",
   "execution_count": 125,
   "metadata": {
    "collapsed": true
   },
   "outputs": [],
   "source": [
    "x_train,x_test,y_train,y_test=train_test_split(x,y,test_size=0.2)"
   ]
  },
  {
   "cell_type": "code",
   "execution_count": 126,
   "metadata": {},
   "outputs": [
    {
     "data": {
      "text/plain": [
       "480"
      ]
     },
     "execution_count": 126,
     "metadata": {},
     "output_type": "execute_result"
    }
   ],
   "source": [
    "x_train.size"
   ]
  },
  {
   "cell_type": "code",
   "execution_count": 128,
   "metadata": {},
   "outputs": [
    {
     "data": {
      "text/plain": [
       "120"
      ]
     },
     "execution_count": 128,
     "metadata": {},
     "output_type": "execute_result"
    }
   ],
   "source": [
    "x_test.size"
   ]
  },
  {
   "cell_type": "code",
   "execution_count": 129,
   "metadata": {
    "collapsed": true
   },
   "outputs": [],
   "source": [
    "from sklearn.linear_model import LogisticRegression"
   ]
  },
  {
   "cell_type": "code",
   "execution_count": 130,
   "metadata": {
    "collapsed": true
   },
   "outputs": [],
   "source": [
    "logmodel_y=LogisticRegression()"
   ]
  },
  {
   "cell_type": "code",
   "execution_count": 131,
   "metadata": {},
   "outputs": [
    {
     "data": {
      "text/plain": [
       "LogisticRegression(C=1.0, class_weight=None, dual=False, fit_intercept=True,\n",
       "          intercept_scaling=1, max_iter=100, multi_class='ovr', n_jobs=1,\n",
       "          penalty='l2', random_state=None, solver='liblinear', tol=0.0001,\n",
       "          verbose=0, warm_start=False)"
      ]
     },
     "execution_count": 131,
     "metadata": {},
     "output_type": "execute_result"
    }
   ],
   "source": [
    "logmodel_y.fit(x_train,y_train)"
   ]
  },
  {
   "cell_type": "code",
   "execution_count": 132,
   "metadata": {
    "collapsed": true
   },
   "outputs": [],
   "source": [
    "y_pred=logmodel_y.predict(x_test)"
   ]
  },
  {
   "cell_type": "code",
   "execution_count": 133,
   "metadata": {},
   "outputs": [
    {
     "data": {
      "text/plain": [
       "array([0, 0, 2, 1, 1, 1, 1, 2, 0, 2, 0, 1, 1, 2, 0, 0, 2, 2, 0, 0, 2, 0,\n",
       "       0, 2, 0, 0, 0, 1, 1, 1], dtype=int64)"
      ]
     },
     "execution_count": 133,
     "metadata": {},
     "output_type": "execute_result"
    }
   ],
   "source": [
    "y_pred"
   ]
  },
  {
   "cell_type": "code",
   "execution_count": 134,
   "metadata": {},
   "outputs": [
    {
     "data": {
      "text/plain": [
       "array([0, 0, 2, 1, 1, 1, 1, 2, 0, 2, 0, 1, 1, 2, 0, 0, 2, 2, 0, 0, 1, 0,\n",
       "       0, 1, 0, 0, 0, 1, 1, 1], dtype=int64)"
      ]
     },
     "execution_count": 134,
     "metadata": {},
     "output_type": "execute_result"
    }
   ],
   "source": [
    "y_test"
   ]
  },
  {
   "cell_type": "code",
   "execution_count": 135,
   "metadata": {
    "collapsed": true
   },
   "outputs": [],
   "source": [
    "from sklearn.metrics import confusion_matrix"
   ]
  },
  {
   "cell_type": "code",
   "execution_count": 136,
   "metadata": {},
   "outputs": [
    {
     "data": {
      "text/plain": [
       "array([[13,  0,  0],\n",
       "       [ 0,  9,  2],\n",
       "       [ 0,  0,  6]], dtype=int64)"
      ]
     },
     "execution_count": 136,
     "metadata": {},
     "output_type": "execute_result"
    }
   ],
   "source": [
    "confusion_matrix(y_test,y_pred)"
   ]
  },
  {
   "cell_type": "code",
   "execution_count": 138,
   "metadata": {},
   "outputs": [
    {
     "data": {
      "text/plain": [
       "0.9333333333333333"
      ]
     },
     "execution_count": 138,
     "metadata": {},
     "output_type": "execute_result"
    }
   ],
   "source": [
    "logmodel_y.score(x_test,y_test)"
   ]
  },
  {
   "cell_type": "code",
   "execution_count": 140,
   "metadata": {
    "collapsed": true
   },
   "outputs": [],
   "source": [
    "from sklearn.metrics import accuracy_score"
   ]
  },
  {
   "cell_type": "code",
   "execution_count": 141,
   "metadata": {},
   "outputs": [
    {
     "data": {
      "text/plain": [
       "0.9333333333333333"
      ]
     },
     "execution_count": 141,
     "metadata": {},
     "output_type": "execute_result"
    }
   ],
   "source": [
    "accuracy_score(y_pred,y_test)"
   ]
  },
  {
   "cell_type": "code",
   "execution_count": 142,
   "metadata": {
    "collapsed": true
   },
   "outputs": [],
   "source": [
    "from sklearn.svm import SVC"
   ]
  },
  {
   "cell_type": "code",
   "execution_count": 143,
   "metadata": {
    "collapsed": true
   },
   "outputs": [],
   "source": [
    "classifier_svm_sig=SVC(kernel=\"sigmoid\")"
   ]
  },
  {
   "cell_type": "code",
   "execution_count": 145,
   "metadata": {},
   "outputs": [
    {
     "data": {
      "text/plain": [
       "SVC(C=1.0, cache_size=200, class_weight=None, coef0=0.0,\n",
       "  decision_function_shape='ovr', degree=3, gamma='auto', kernel='sigmoid',\n",
       "  max_iter=-1, probability=False, random_state=None, shrinking=True,\n",
       "  tol=0.001, verbose=False)"
      ]
     },
     "execution_count": 145,
     "metadata": {},
     "output_type": "execute_result"
    }
   ],
   "source": [
    "classifier_svm_sig.fit(x_train,y_train)"
   ]
  },
  {
   "cell_type": "code",
   "execution_count": 146,
   "metadata": {
    "collapsed": true
   },
   "outputs": [],
   "source": [
    "y_pred=classifier_svm_sig.predict(x_test)"
   ]
  },
  {
   "cell_type": "code",
   "execution_count": 147,
   "metadata": {},
   "outputs": [
    {
     "data": {
      "text/plain": [
       "array([2, 2, 2, 2, 2, 2, 2, 2, 2, 2, 2, 2, 2, 2, 2, 2, 2, 2, 2, 2, 2, 2,\n",
       "       2, 2, 2, 2, 2, 2, 2, 2], dtype=int64)"
      ]
     },
     "execution_count": 147,
     "metadata": {},
     "output_type": "execute_result"
    }
   ],
   "source": [
    "y_pred"
   ]
  },
  {
   "cell_type": "code",
   "execution_count": 148,
   "metadata": {},
   "outputs": [
    {
     "data": {
      "text/plain": [
       "array([0, 0, 2, 1, 1, 1, 1, 2, 0, 2, 0, 1, 1, 2, 0, 0, 2, 2, 0, 0, 1, 0,\n",
       "       0, 1, 0, 0, 0, 1, 1, 1], dtype=int64)"
      ]
     },
     "execution_count": 148,
     "metadata": {},
     "output_type": "execute_result"
    }
   ],
   "source": [
    "y_test"
   ]
  },
  {
   "cell_type": "code",
   "execution_count": 149,
   "metadata": {
    "collapsed": true
   },
   "outputs": [],
   "source": [
    "from sklearn.metrics import confusion_matrix"
   ]
  },
  {
   "cell_type": "code",
   "execution_count": 150,
   "metadata": {},
   "outputs": [
    {
     "data": {
      "text/plain": [
       "array([[ 0,  0, 13],\n",
       "       [ 0,  0, 11],\n",
       "       [ 0,  0,  6]], dtype=int64)"
      ]
     },
     "execution_count": 150,
     "metadata": {},
     "output_type": "execute_result"
    }
   ],
   "source": [
    "confusion_matrix(y_test,y_pred)"
   ]
  },
  {
   "cell_type": "code",
   "execution_count": 151,
   "metadata": {},
   "outputs": [
    {
     "data": {
      "text/plain": [
       "0.2"
      ]
     },
     "execution_count": 151,
     "metadata": {},
     "output_type": "execute_result"
    }
   ],
   "source": [
    "classifier_svm_sig.score(x_test,y_test)"
   ]
  },
  {
   "cell_type": "code",
   "execution_count": 153,
   "metadata": {},
   "outputs": [
    {
     "data": {
      "text/plain": [
       "0.2"
      ]
     },
     "execution_count": 153,
     "metadata": {},
     "output_type": "execute_result"
    }
   ],
   "source": [
    "from sklearn.metrics import accuracy_score\n",
    "accuracy_score(y_pred,y_test)\n"
   ]
  },
  {
   "cell_type": "code",
   "execution_count": 155,
   "metadata": {
    "collapsed": true
   },
   "outputs": [],
   "source": [
    "#RANDOM FOREST\n",
    "from sklearn.ensemble import RandomForestRegressor"
   ]
  },
  {
   "cell_type": "code",
   "execution_count": 156,
   "metadata": {
    "collapsed": true
   },
   "outputs": [],
   "source": [
    "classifier_rf=RandomForestRegressor()"
   ]
  },
  {
   "cell_type": "code",
   "execution_count": 159,
   "metadata": {},
   "outputs": [
    {
     "data": {
      "text/plain": [
       "array([0. , 0. , 2. , 1. , 1. , 1. , 1. , 2. , 0. , 2. , 0. , 1. , 1. ,\n",
       "       1.9, 0. , 0. , 1.8, 2. , 0. , 0. , 1.9, 0. , 0. , 1. , 0. , 0. ,\n",
       "       0. , 1.5, 1. , 1.2])"
      ]
     },
     "execution_count": 159,
     "metadata": {},
     "output_type": "execute_result"
    }
   ],
   "source": [
    "classifier_rf.fit(x_train,y_train)\n",
    "y_pred=classifier_rf.predict(x_test)\n",
    "y_pred"
   ]
  },
  {
   "cell_type": "code",
   "execution_count": 160,
   "metadata": {},
   "outputs": [
    {
     "data": {
      "text/plain": [
       "array([0, 0, 2, 1, 1, 1, 1, 2, 0, 2, 0, 1, 1, 2, 0, 0, 2, 2, 0, 0, 1, 0,\n",
       "       0, 1, 0, 0, 0, 1, 1, 1], dtype=int64)"
      ]
     },
     "execution_count": 160,
     "metadata": {},
     "output_type": "execute_result"
    }
   ],
   "source": [
    "y_test"
   ]
  },
  {
   "cell_type": "code",
   "execution_count": 167,
   "metadata": {
    "collapsed": true
   },
   "outputs": [],
   "source": [
    "from sklearn.naive_bayes import GaussianNB"
   ]
  },
  {
   "cell_type": "code",
   "execution_count": 168,
   "metadata": {
    "collapsed": true
   },
   "outputs": [],
   "source": [
    "classifier_nb=GaussianNB()"
   ]
  },
  {
   "cell_type": "code",
   "execution_count": 169,
   "metadata": {
    "collapsed": true
   },
   "outputs": [],
   "source": [
    "from sklearn.neighbors import KNeighborsClassifier"
   ]
  },
  {
   "cell_type": "code",
   "execution_count": 170,
   "metadata": {
    "collapsed": true
   },
   "outputs": [],
   "source": [
    "classifier_knn=KNeighborsClassifier(n_neighbors=5,metric=\"minkowski\",p=2)"
   ]
  },
  {
   "cell_type": "code",
   "execution_count": 171,
   "metadata": {
    "collapsed": true
   },
   "outputs": [],
   "source": [
    "from sklearn.tree import DecisionTreeClassifier"
   ]
  },
  {
   "cell_type": "code",
   "execution_count": 1,
   "metadata": {
    "collapsed": true
   },
   "outputs": [],
   "source": [
    "import numpy as np\n",
    "import pandas as pd"
   ]
  },
  {
   "cell_type": "code",
   "execution_count": 2,
   "metadata": {
    "collapsed": true
   },
   "outputs": [],
   "source": [
    "import matplotlib.pyplot as plt"
   ]
  },
  {
   "cell_type": "code",
   "execution_count": 5,
   "metadata": {
    "collapsed": true
   },
   "outputs": [],
   "source": [
    "df=pd.read_csv(\"iris.csv\")"
   ]
  },
  {
   "cell_type": "code",
   "execution_count": 6,
   "metadata": {},
   "outputs": [
    {
     "data": {
      "text/html": [
       "<div>\n",
       "<style scoped>\n",
       "    .dataframe tbody tr th:only-of-type {\n",
       "        vertical-align: middle;\n",
       "    }\n",
       "\n",
       "    .dataframe tbody tr th {\n",
       "        vertical-align: top;\n",
       "    }\n",
       "\n",
       "    .dataframe thead th {\n",
       "        text-align: right;\n",
       "    }\n",
       "</style>\n",
       "<table border=\"1\" class=\"dataframe\">\n",
       "  <thead>\n",
       "    <tr style=\"text-align: right;\">\n",
       "      <th></th>\n",
       "      <th>sepal.length</th>\n",
       "      <th>sepal.width</th>\n",
       "      <th>petal.length</th>\n",
       "      <th>petal.width</th>\n",
       "      <th>variety</th>\n",
       "    </tr>\n",
       "  </thead>\n",
       "  <tbody>\n",
       "    <tr>\n",
       "      <th>0</th>\n",
       "      <td>5.1</td>\n",
       "      <td>3.5</td>\n",
       "      <td>1.4</td>\n",
       "      <td>0.2</td>\n",
       "      <td>Setosa</td>\n",
       "    </tr>\n",
       "    <tr>\n",
       "      <th>1</th>\n",
       "      <td>4.9</td>\n",
       "      <td>3.0</td>\n",
       "      <td>1.4</td>\n",
       "      <td>0.2</td>\n",
       "      <td>Setosa</td>\n",
       "    </tr>\n",
       "    <tr>\n",
       "      <th>2</th>\n",
       "      <td>4.7</td>\n",
       "      <td>3.2</td>\n",
       "      <td>1.3</td>\n",
       "      <td>0.2</td>\n",
       "      <td>Setosa</td>\n",
       "    </tr>\n",
       "    <tr>\n",
       "      <th>3</th>\n",
       "      <td>4.6</td>\n",
       "      <td>3.1</td>\n",
       "      <td>1.5</td>\n",
       "      <td>0.2</td>\n",
       "      <td>Setosa</td>\n",
       "    </tr>\n",
       "    <tr>\n",
       "      <th>4</th>\n",
       "      <td>5.0</td>\n",
       "      <td>3.6</td>\n",
       "      <td>1.4</td>\n",
       "      <td>0.2</td>\n",
       "      <td>Setosa</td>\n",
       "    </tr>\n",
       "    <tr>\n",
       "      <th>...</th>\n",
       "      <td>...</td>\n",
       "      <td>...</td>\n",
       "      <td>...</td>\n",
       "      <td>...</td>\n",
       "      <td>...</td>\n",
       "    </tr>\n",
       "    <tr>\n",
       "      <th>145</th>\n",
       "      <td>6.7</td>\n",
       "      <td>3.0</td>\n",
       "      <td>5.2</td>\n",
       "      <td>2.3</td>\n",
       "      <td>Virginica</td>\n",
       "    </tr>\n",
       "    <tr>\n",
       "      <th>146</th>\n",
       "      <td>6.3</td>\n",
       "      <td>2.5</td>\n",
       "      <td>5.0</td>\n",
       "      <td>1.9</td>\n",
       "      <td>Virginica</td>\n",
       "    </tr>\n",
       "    <tr>\n",
       "      <th>147</th>\n",
       "      <td>6.5</td>\n",
       "      <td>3.0</td>\n",
       "      <td>5.2</td>\n",
       "      <td>2.0</td>\n",
       "      <td>Virginica</td>\n",
       "    </tr>\n",
       "    <tr>\n",
       "      <th>148</th>\n",
       "      <td>6.2</td>\n",
       "      <td>3.4</td>\n",
       "      <td>5.4</td>\n",
       "      <td>2.3</td>\n",
       "      <td>Virginica</td>\n",
       "    </tr>\n",
       "    <tr>\n",
       "      <th>149</th>\n",
       "      <td>5.9</td>\n",
       "      <td>3.0</td>\n",
       "      <td>5.1</td>\n",
       "      <td>1.8</td>\n",
       "      <td>Virginica</td>\n",
       "    </tr>\n",
       "  </tbody>\n",
       "</table>\n",
       "<p>150 rows × 5 columns</p>\n",
       "</div>"
      ],
      "text/plain": [
       "     sepal.length  sepal.width  petal.length  petal.width    variety\n",
       "0             5.1          3.5           1.4          0.2     Setosa\n",
       "1             4.9          3.0           1.4          0.2     Setosa\n",
       "2             4.7          3.2           1.3          0.2     Setosa\n",
       "3             4.6          3.1           1.5          0.2     Setosa\n",
       "4             5.0          3.6           1.4          0.2     Setosa\n",
       "..            ...          ...           ...          ...        ...\n",
       "145           6.7          3.0           5.2          2.3  Virginica\n",
       "146           6.3          2.5           5.0          1.9  Virginica\n",
       "147           6.5          3.0           5.2          2.0  Virginica\n",
       "148           6.2          3.4           5.4          2.3  Virginica\n",
       "149           5.9          3.0           5.1          1.8  Virginica\n",
       "\n",
       "[150 rows x 5 columns]"
      ]
     },
     "execution_count": 6,
     "metadata": {},
     "output_type": "execute_result"
    }
   ],
   "source": [
    "df"
   ]
  },
  {
   "cell_type": "code",
   "execution_count": 7,
   "metadata": {
    "collapsed": true
   },
   "outputs": [],
   "source": [
    "import seaborn as sns"
   ]
  },
  {
   "cell_type": "code",
   "execution_count": 12,
   "metadata": {},
   "outputs": [
    {
     "data": {
      "text/plain": [
       "<AxesSubplot:xlabel='sepal.width', ylabel='petal.length'>"
      ]
     },
     "execution_count": 12,
     "metadata": {},
     "output_type": "execute_result"
    }
   ],
   "source": [
    "sns.scatterplot(data=df,x=\"sepal.width\",y=\"petal.length\",hue=\"variety\")"
   ]
  },
  {
   "cell_type": "code",
   "execution_count": 13,
   "metadata": {
    "collapsed": true
   },
   "outputs": [],
   "source": [
    "plt.grid()"
   ]
  },
  {
   "cell_type": "code",
   "execution_count": 14,
   "metadata": {},
   "outputs": [
    {
     "data": {
      "image/png": "[encoded data removed]",
      "text/plain": [
       "<Figure size 432x288 with 1 Axes>"
      ]
     },
     "metadata": {},
     "output_type": "display_data"
    }
   ],
   "source": [
    "plt.show()"
   ]
  },
  {
   "cell_type": "code",
   "execution_count": 16,
   "metadata": {},
   "outputs": [
    {
     "data": {
      "text/plain": [
       "{'boxes': [<matplotlib.lines.Line2D at 0x228b874c0b8>],\n",
       " 'caps': [<matplotlib.lines.Line2D at 0x228b874c898>,\n",
       "  <matplotlib.lines.Line2D at 0x228b874cb70>],\n",
       " 'fliers': [<matplotlib.lines.Line2D at 0x228b875c160>],\n",
       " 'means': [],\n",
       " 'medians': [<matplotlib.lines.Line2D at 0x228b874ce48>],\n",
       " 'whiskers': [<matplotlib.lines.Line2D at 0x228b874c2b0>,\n",
       "  <matplotlib.lines.Line2D at 0x228b874c588>]}"
      ]
     },
     "execution_count": 16,
     "metadata": {},
     "output_type": "execute_result"
    }
   ],
   "source": [
    "plt.boxplot(data=df,x=\"sepal.length\")"
   ]
  },
  {
   "cell_type": "code",
   "execution_count": 17,
   "metadata": {},
   "outputs": [
    {
     "data": {
      "image/png": "[encoded data removed]",
      "text/plain": [
       "<Figure size 432x288 with 1 Axes>"
      ]
     },
     "metadata": {},
     "output_type": "display_data"
    }
   ],
   "source": [
    "plt.show()"
   ]
  },
  {
   "cell_type": "code",
   "execution_count": 19,
   "metadata": {},
   "outputs": [
    {
     "data": {
      "text/plain": [
       "([<matplotlib.patches.Wedge at 0x228b87bc860>,\n",
       "  <matplotlib.patches.Wedge at 0x228b87bccc0>,\n",
       "  <matplotlib.patches.Wedge at 0x228b87ca198>,\n",
       "  <matplotlib.patches.Wedge at 0x228b87ca630>,\n",
       "  <matplotlib.patches.Wedge at 0x228b87caac8>,\n",
       "  <matplotlib.patches.Wedge at 0x228b87caf60>,\n",
       "  <matplotlib.patches.Wedge at 0x228b87d9438>,\n",
       "  <matplotlib.patches.Wedge at 0x228b87d98d0>,\n",
       "  <matplotlib.patches.Wedge at 0x228b87d9d68>,\n",
       "  <matplotlib.patches.Wedge at 0x228b87e4240>,\n",
       "  <matplotlib.patches.Wedge at 0x228b87bc828>,\n",
       "  <matplotlib.patches.Wedge at 0x228b87e4b38>,\n",
       "  <matplotlib.patches.Wedge at 0x228b87e4fd0>,\n",
       "  <matplotlib.patches.Wedge at 0x228b87f24a8>,\n",
       "  <matplotlib.patches.Wedge at 0x228b87f2940>,\n",
       "  <matplotlib.patches.Wedge at 0x228b87f2dd8>,\n",
       "  <matplotlib.patches.Wedge at 0x228b87fe2b0>,\n",
       "  <matplotlib.patches.Wedge at 0x228b87fe748>,\n",
       "  <matplotlib.patches.Wedge at 0x228b87febe0>,\n",
       "  <matplotlib.patches.Wedge at 0x228b880d0b8>,\n",
       "  <matplotlib.patches.Wedge at 0x228b880d550>,\n",
       "  <matplotlib.patches.Wedge at 0x228b880d9e8>,\n",
       "  <matplotlib.patches.Wedge at 0x228b880de80>,\n",
       "  <matplotlib.patches.Wedge at 0x228b8819358>,\n",
       "  <matplotlib.patches.Wedge at 0x228b88197f0>,\n",
       "  <matplotlib.patches.Wedge at 0x228b8819c88>,\n",
       "  <matplotlib.patches.Wedge at 0x228b8825160>,\n",
       "  <matplotlib.patches.Wedge at 0x228b88255f8>,\n",
       "  <matplotlib.patches.Wedge at 0x228b8825a90>,\n",
       "  <matplotlib.patches.Wedge at 0x228b8825f28>,\n",
       "  <matplotlib.patches.Wedge at 0x228b8834400>,\n",
       "  <matplotlib.patches.Wedge at 0x228b8834898>,\n",
       "  <matplotlib.patches.Wedge at 0x228b8834d30>,\n",
       "  <matplotlib.patches.Wedge at 0x228b8841208>,\n",
       "  <matplotlib.patches.Wedge at 0x228b88416a0>,\n",
       "  <matplotlib.patches.Wedge at 0x228b8841b38>,\n",
       "  <matplotlib.patches.Wedge at 0x228b8841fd0>,\n",
       "  <matplotlib.patches.Wedge at 0x228b884f4a8>,\n",
       "  <matplotlib.patches.Wedge at 0x228b884f940>,\n",
       "  <matplotlib.patches.Wedge at 0x228b884fdd8>,\n",
       "  <matplotlib.patches.Wedge at 0x228b885a2b0>,\n",
       "  <matplotlib.patches.Wedge at 0x228b885a748>,\n",
       "  <matplotlib.patches.Wedge at 0x228b885abe0>,\n",
       "  <matplotlib.patches.Wedge at 0x228b88650b8>,\n",
       "  <matplotlib.patches.Wedge at 0x228b8865550>,\n",
       "  <matplotlib.patches.Wedge at 0x228b88659e8>,\n",
       "  <matplotlib.patches.Wedge at 0x228b8865e80>,\n",
       "  <matplotlib.patches.Wedge at 0x228b8875358>,\n",
       "  <matplotlib.patches.Wedge at 0x228b88757f0>,\n",
       "  <matplotlib.patches.Wedge at 0x228b8875c88>,\n",
       "  <matplotlib.patches.Wedge at 0x228b8880160>,\n",
       "  <matplotlib.patches.Wedge at 0x228b88805f8>,\n",
       "  <matplotlib.patches.Wedge at 0x228b8880a90>,\n",
       "  <matplotlib.patches.Wedge at 0x228b8880f28>,\n",
       "  <matplotlib.patches.Wedge at 0x228b888d400>,\n",
       "  <matplotlib.patches.Wedge at 0x228b888d898>,\n",
       "  <matplotlib.patches.Wedge at 0x228b888dd30>,\n",
       "  <matplotlib.patches.Wedge at 0x228b889c208>,\n",
       "  <matplotlib.patches.Wedge at 0x228b889c6a0>,\n",
       "  <matplotlib.patches.Wedge at 0x228b889cb38>,\n",
       "  <matplotlib.patches.Wedge at 0x228b889cfd0>,\n",
       "  <matplotlib.patches.Wedge at 0x228b88a94a8>,\n",
       "  <matplotlib.patches.Wedge at 0x228b88a9940>,\n",
       "  <matplotlib.patches.Wedge at 0x228b88a9dd8>,\n",
       "  <matplotlib.patches.Wedge at 0x228b88b52b0>,\n",
       "  <matplotlib.patches.Wedge at 0x228b88b5748>,\n",
       "  <matplotlib.patches.Wedge at 0x228b88b5be0>,\n",
       "  <matplotlib.patches.Wedge at 0x228b88c10b8>,\n",
       "  <matplotlib.patches.Wedge at 0x228b88c1550>,\n",
       "  <matplotlib.patches.Wedge at 0x228b88c19e8>,\n",
       "  <matplotlib.patches.Wedge at 0x228b88c1e80>,\n",
       "  <matplotlib.patches.Wedge at 0x228b88cf358>,\n",
       "  <matplotlib.patches.Wedge at 0x228b88cf7f0>,\n",
       "  <matplotlib.patches.Wedge at 0x228b88cfc88>,\n",
       "  <matplotlib.patches.Wedge at 0x228b88db160>,\n",
       "  <matplotlib.patches.Wedge at 0x228b88db5f8>,\n",
       "  <matplotlib.patches.Wedge at 0x228b88dba90>,\n",
       "  <matplotlib.patches.Wedge at 0x228b88dbf28>,\n",
       "  <matplotlib.patches.Wedge at 0x228b88e9400>,\n",
       "  <matplotlib.patches.Wedge at 0x228b88e9898>,\n",
       "  <matplotlib.patches.Wedge at 0x228b88e9d30>,\n",
       "  <matplotlib.patches.Wedge at 0x228b88f4208>,\n",
       "  <matplotlib.patches.Wedge at 0x228b88f46a0>,\n",
       "  <matplotlib.patches.Wedge at 0x228b88f4b38>,\n",
       "  <matplotlib.patches.Wedge at 0x228b88f4fd0>,\n",
       "  <matplotlib.patches.Wedge at 0x228b89024a8>,\n",
       "  <matplotlib.patches.Wedge at 0x228b8902940>,\n",
       "  <matplotlib.patches.Wedge at 0x228b8902dd8>,\n",
       "  <matplotlib.patches.Wedge at 0x228b890f2b0>,\n",
       "  <matplotlib.patches.Wedge at 0x228b890f748>,\n",
       "  <matplotlib.patches.Wedge at 0x228b890fbe0>,\n",
       "  <matplotlib.patches.Wedge at 0x228b891c0b8>,\n",
       "  <matplotlib.patches.Wedge at 0x228b891c550>,\n",
       "  <matplotlib.patches.Wedge at 0x228b891c9e8>,\n",
       "  <matplotlib.patches.Wedge at 0x228b891ce80>,\n",
       "  <matplotlib.patches.Wedge at 0x228b8929358>,\n",
       "  <matplotlib.patches.Wedge at 0x228b89297f0>,\n",
       "  <matplotlib.patches.Wedge at 0x228b8929c88>,\n",
       "  <matplotlib.patches.Wedge at 0x228b8937160>,\n",
       "  <matplotlib.patches.Wedge at 0x228b89375f8>,\n",
       "  <matplotlib.patches.Wedge at 0x228b8937a90>,\n",
       "  <matplotlib.patches.Wedge at 0x228b8937f28>,\n",
       "  <matplotlib.patches.Wedge at 0x228b8945400>,\n",
       "  <matplotlib.patches.Wedge at 0x228b8945898>,\n",
       "  <matplotlib.patches.Wedge at 0x228b8945d30>,\n",
       "  <matplotlib.patches.Wedge at 0x228b8952208>,\n",
       "  <matplotlib.patches.Wedge at 0x228b89526a0>,\n",
       "  <matplotlib.patches.Wedge at 0x228b8952b38>,\n",
       "  <matplotlib.patches.Wedge at 0x228b8952fd0>,\n",
       "  <matplotlib.patches.Wedge at 0x228b89604a8>,\n",
       "  <matplotlib.patches.Wedge at 0x228b8960940>,\n",
       "  <matplotlib.patches.Wedge at 0x228b8960dd8>,\n",
       "  <matplotlib.patches.Wedge at 0x228b896d2b0>,\n",
       "  <matplotlib.patches.Wedge at 0x228b896d748>,\n",
       "  <matplotlib.patches.Wedge at 0x228b896dbe0>,\n",
       "  <matplotlib.patches.Wedge at 0x228b897b0b8>,\n",
       "  <matplotlib.patches.Wedge at 0x228b897b550>,\n",
       "  <matplotlib.patches.Wedge at 0x228b897b9e8>,\n",
       "  <matplotlib.patches.Wedge at 0x228b897be80>,\n",
       "  <matplotlib.patches.Wedge at 0x228b898a358>,\n",
       "  <matplotlib.patches.Wedge at 0x228b898a7f0>,\n",
       "  <matplotlib.patches.Wedge at 0x228b898ac88>,\n",
       "  <matplotlib.patches.Wedge at 0x228b8998160>,\n",
       "  <matplotlib.patches.Wedge at 0x228b89985f8>,\n",
       "  <matplotlib.patches.Wedge at 0x228b8998a90>,\n",
       "  <matplotlib.patches.Wedge at 0x228b8998f28>,\n",
       "  <matplotlib.patches.Wedge at 0x228b89a6400>,\n",
       "  <matplotlib.patches.Wedge at 0x228b89a6898>,\n",
       "  <matplotlib.patches.Wedge at 0x228b89a6d30>,\n",
       "  <matplotlib.patches.Wedge at 0x228b89b3208>,\n",
       "  <matplotlib.patches.Wedge at 0x228b89b36a0>,\n",
       "  <matplotlib.patches.Wedge at 0x228b89b3b38>,\n",
       "  <matplotlib.patches.Wedge at 0x228b89b3fd0>,\n",
       "  <matplotlib.patches.Wedge at 0x228b89c24a8>,\n",
       "  <matplotlib.patches.Wedge at 0x228b89c2940>,\n",
       "  <matplotlib.patches.Wedge at 0x228b89c2dd8>,\n",
       "  <matplotlib.patches.Wedge at 0x228b89d02b0>,\n",
       "  <matplotlib.patches.Wedge at 0x228b89d0748>,\n",
       "  <matplotlib.patches.Wedge at 0x228b89d0be0>,\n",
       "  <matplotlib.patches.Wedge at 0x228b89dd0b8>,\n",
       "  <matplotlib.patches.Wedge at 0x228b89dd550>,\n",
       "  <matplotlib.patches.Wedge at 0x228b89dd9e8>,\n",
       "  <matplotlib.patches.Wedge at 0x228b89dde80>,\n",
       "  <matplotlib.patches.Wedge at 0x228b89ea358>,\n",
       "  <matplotlib.patches.Wedge at 0x228b89ea7f0>,\n",
       "  <matplotlib.patches.Wedge at 0x228b89eac88>,\n",
       "  <matplotlib.patches.Wedge at 0x228b89f8160>,\n",
       "  <matplotlib.patches.Wedge at 0x228b89f85f8>,\n",
       "  <matplotlib.patches.Wedge at 0x228b89f8a90>,\n",
       "  <matplotlib.patches.Wedge at 0x228b89f8f28>],\n",
       " [Text(1.0998162248289156, 0.020106506486022895, 'Setosa'),\n",
       "  Text(1.0983893303845753, 0.059505284616782936, 'Setosa'),\n",
       "  Text(1.0956920682406373, 0.0972568331509659, 'Setosa'),\n",
       "  Text(1.091842090596001, 0.1337192925607762, 'Setosa'),\n",
       "  Text(1.0865955946241563, 0.17120167564418406, 'Setosa'),\n",
       "  Text(1.0794604973247504, 0.21157749104146875, 'Setosa'),\n",
       "  Text(1.0711853524326178, 0.25012385078958144, 'Setosa'),\n",
       "  Text(1.061946535861541, 0.2868266984987159, 'Setosa'),\n",
       "  Text(1.051681945368862, 0.322436173195822, 'Setosa'),\n",
       "  Text(1.0403517900227819, 0.35730680513585744, 'Setosa'),\n",
       "  Text(1.0264549462634536, 0.39546206302411735, 'Setosa'),\n",
       "  Text(1.0113144459682202, 0.4327159476792971, 'Setosa'),\n",
       "  Text(0.9958295372217366, 0.4672510383046166, 'Setosa'),\n",
       "  Text(0.9800624176136543, 0.4994773844542706, 'Setosa'),\n",
       "  Text(0.9613427184591771, 0.5346215274991454, 'Setosa'),\n",
       "  Text(0.9384959352390051, 0.5737816479636354, 'Setosa'),\n",
       "  Text(0.9149313166628202, 0.6106559471499793, 'Setosa'),\n",
       "  Text(0.8913070906159923, 0.644648485779386, 'Setosa'),\n",
       "  Text(0.8656913561814885, 0.6786593223648043, 'Setosa'),\n",
       "  Text(0.8387785851090395, 0.7116533462033873, 'Setosa'),\n",
       "  Text(0.8114081835347964, 0.7427090680022442, 'Setosa'),\n",
       "  Text(0.7828886692191259, 0.7727129684483793, 'Setosa'),\n",
       "  Text(0.7555559028440736, 0.7994593658701342, 'Setosa'),\n",
       "  Text(0.7273099441970501, 0.8252395077019059, 'Setosa'),\n",
       "  Text(0.6975754143028088, 0.8505225107898468, 'Setosa'),\n",
       "  Text(0.6672761298553448, 0.8744956069216548, 'Setosa'),\n",
       "  Text(0.635510182136509, 0.8978456484278472, 'Setosa'),\n",
       "  Text(0.6022682079207882, 0.9204743373543244, 'Setosa'),\n",
       "  Text(0.5675460162908743, 0.9422799580763451, 'Setosa'),\n",
       "  Text(0.5337598619772879, 0.9618214022062447, 'Setosa'),\n",
       "  Text(0.500706438369625, 0.9794350731800475, 'Setosa'),\n",
       "  Text(0.46457234995892716, 0.9970820084895927, 'Setosa'),\n",
       "  Text(0.42636404881668055, 1.0140087267260807, 'Setosa'),\n",
       "  Text(0.38717136615048314, 1.029610767830819, 'Setosa'),\n",
       "  Text(0.34853134821939424, 1.0433244458500777, 'Setosa'),\n",
       "  Text(0.3112983441692094, 1.0550323885632653, 'Setosa'),\n",
       "  Text(0.27138156904292254, 1.0659981444560782, 'Setosa'),\n",
       "  Text(0.23146591953507478, 1.075371344277772, 'Setosa'),\n",
       "  Text(0.19549808527875648, 1.0824881055477424, 'Setosa'),\n",
       "  Text(0.15853278810810947, 1.088516125325973, 'Setosa'),\n",
       "  Text(0.1190322667634038, 1.0935407260222028, 'Setosa'),\n",
       "  Text(0.08173502068710135, 1.0969591543869257, 'Setosa'),\n",
       "  Text(0.04670659369297162, 1.0990079590729085, 'Setosa'),\n",
       "  Text(0.009659397975327217, 1.0999575882872732, 'Setosa'),\n",
       "  Text(-0.030157685125645782, 1.0995865195735453, 'Setosa'),\n",
       "  Text(-0.06914829436090036, 1.0978244456136776, 'Setosa'),\n",
       "  Text(-0.10805184689288022, 1.0946802265424538, 'Setosa'),\n",
       "  Text(-0.14603784605053147, 1.090262788285889, 'Setosa'),\n",
       "  Text(-0.18462473525811582, 1.0843955492028132, 'Setosa'),\n",
       "  Text(-0.2245232827490888, 1.0768422797715425, 'Setosa'),\n",
       "  Text(-0.27061738504094857, 1.066192398638069, 'Versicolor'),\n",
       "  Text(-0.321493692990292, 1.0519704393981155, 'Versicolor'),\n",
       "  Text(-0.37125742153658464, 1.0354554200708048, 'Versicolor'),\n",
       "  Text(-0.4168961245760817, 1.0179379260610366, 'Versicolor'),\n",
       "  Text(-0.4602795627875582, 0.9990709304549374, 'Versicolor'),\n",
       "  Text(-0.5035128453485936, 0.9779953039605882, 'Versicolor'),\n",
       "  Text(-0.5450987367740305, 0.9554409281412202, 'Versicolor'),\n",
       "  Text(-0.5830040891928152, 0.9327948498916877, 'Versicolor'),\n",
       "  Text(-0.6209467363834421, 0.9079786068926692, 'Versicolor'),\n",
       "  Text(-0.6587821500841263, 0.88091207207674, 'Versicolor'),\n",
       "  Text(-0.6905403133343316, 0.8562441682488257, 'Versicolor'),\n",
       "  Text(-0.7234568743808283, 0.8286194246523084, 'Versicolor'),\n",
       "  Text(-0.7581309124480674, 0.7970178916377354, 'Versicolor'),\n",
       "  Text(-0.7919733832912981, 0.7633990831525375, 'Versicolor'),\n",
       "  Text(-0.8232813877627398, 0.7295257065816511, 'Versicolor'),\n",
       "  Text(-0.8546330811558988, 0.6925332458402088, 'Versicolor'),\n",
       "  Text(-0.8843239817410733, 0.65419499793075, 'Versicolor'),\n",
       "  Text(-0.9103091060361099, 0.617525166667512, 'Versicolor'),\n",
       "  Text(-0.936019391426093, 0.5778128580036331, 'Versicolor'),\n",
       "  Text(-0.9596131421823119, 0.5377198316511956, 'Versicolor'),\n",
       "  Text(-0.9809559827323322, 0.49772016228162236, 'Versicolor'),\n",
       "  Text(-1.0014495914638, 0.4550809991166278, 'Versicolor'),\n",
       "  Text(-1.0206799230338996, 0.41013716573301784, 'Versicolor'),\n",
       "  Text(-1.0378944085408572, 0.3643833101551498, 'Versicolor'),\n",
       "  Text(-1.053172928084864, 0.3175323346513769, 'Versicolor'),\n",
       "  Text(-1.0668199890671155, 0.26813263681775035, 'Versicolor'),\n",
       "  Text(-1.0784629360853957, 0.21660492951469956, 'Versicolor'),\n",
       "  Text(-1.0876775074411629, 0.1641878186912143, 'Versicolor'),\n",
       "  Text(-1.0940220714534004, 0.11452382796960192, 'Versicolor'),\n",
       "  Text(-1.0978614659367807, 0.06855801638862484, 'Versicolor'),\n",
       "  Text(-1.099728403787795, 0.02444254287811964, 'Versicolor'),\n",
       "  Text(-1.099837208824005, -0.018923902510388106, 'Versicolor'),\n",
       "  Text(-1.098168993040182, -0.06344180581535332, 'Versicolor'),\n",
       "  Text(-1.0945045259880575, -0.1098173146259632, 'Versicolor'),\n",
       "  Text(-1.0891050421892536, -0.15443512255294814, 'Versicolor'),\n",
       "  Text(-1.081887470150612, -0.1987951255214995, 'Versicolor'),\n",
       "  Text(-1.0717207761745113, -0.24781964796178538, 'Versicolor'),\n",
       "  Text(-1.05901454120877, -0.29746966485404686, 'Versicolor'),\n",
       "  Text(-1.0453673964077235, -0.3423550883625621, 'Versicolor'),\n",
       "  Text(-1.030923118624841, -0.3836632944195107, 'Versicolor'),\n",
       "  Text(-1.0149992886385213, -0.4240005236592237, 'Versicolor'),\n",
       "  Text(-0.9964984116608475, -0.4658228370930393, 'Versicolor'),\n",
       "  Text(-0.9757296098337462, -0.5078894845275745, 'Versicolor'),\n",
       "  Text(-0.9553432310253922, -0.5452699431785731, 'Versicolor'),\n",
       "  Text(-0.9339423413905261, -0.5811640929702921, 'Versicolor'),\n",
       "  Text(-0.9096445530266677, -0.618503667854051, 'Versicolor'),\n",
       "  Text(-0.8836200135299055, -0.6551455347397322, 'Versicolor'),\n",
       "  Text(-0.8548812283593378, -0.6922269031169115, 'Versicolor'),\n",
       "  Text(-0.8261512422413778, -0.7262741389744154, 'Versicolor'),\n",
       "  Text(-0.7974253889761944, -0.7577022825728884, 'Versicolor'),\n",
       "  Text(-0.7641084467208058, -0.7912890000814605, 'Virginica'),\n",
       "  Text(-0.72908298545701, -0.8236734791876533, 'Virginica'),\n",
       "  Text(-0.6902333444635523, -0.8564916404674707, 'Virginica'),\n",
       "  Text(-0.6483168430501103, -0.8886423752092508, 'Virginica'),\n",
       "  Text(-0.6068795078009365, -0.9174406046231512, 'Virginica'),\n",
       "  Text(-0.5597588909534752, -0.9469265990553523, 'Virginica'),\n",
       "  Text(-0.5167861334070564, -0.9710469053131184, 'Virginica'),\n",
       "  Text(-0.4738439042676005, -0.9927094007756939, 'Virginica'),\n",
       "  Text(-0.42345474635793434, -1.0152271065071785, 'Virginica'),\n",
       "  Text(-0.37237057475109175, -1.0350556289685795, 'Virginica'),\n",
       "  Text(-0.3211165888817267, -1.0520856126499232, 'Virginica'),\n",
       "  Text(-0.272145672854887, -1.0658033274231982, 'Virginica'),\n",
       "  Text(-0.2214345965777744, -1.0774816561957974, 'Virginica'),\n",
       "  Text(-0.17295403108002122, -1.0863180487928805, 'Virginica'),\n",
       "  Text(-0.1280430327334192, -1.0925223026411994, 'Virginica'),\n",
       "  Text(-0.08016224379216594, -1.0970752092132086, 'Virginica'),\n",
       "  Text(-0.029369409518993063, -1.099607856367217, 'Virginica'),\n",
       "  Text(0.02661044291503342, -1.0996780821348882, 'Virginica'),\n",
       "  Text(0.08723847178574616, -1.0965352019157832, 'Virginica'),\n",
       "  Text(0.14095614763882325, -1.0909314205956406, 'Virginica'),\n",
       "  Text(0.1912286982302155, -1.083250471946898, 'Virginica'),\n",
       "  Text(0.23955353432898002, -1.0735986699835718, 'Virginica'),\n",
       "  Text(0.2904409834828607, -1.0609637294052559, 'Virginica'),\n",
       "  Text(0.3432916451210631, -1.0450602118490944, 'Virginica'),\n",
       "  Text(0.3915962352473558, -1.0279359846508427, 'Virginica'),\n",
       "  Text(0.44230199010797017, -1.007158850205135, 'Virginica'),\n",
       "  Text(0.49014609001449166, -0.984762311648606, 'Virginica'),\n",
       "  Text(0.5330702485251827, -0.9622037778648035, 'Virginica'),\n",
       "  Text(0.5756305982250627, -0.9373630109979039, 'Virginica'),\n",
       "  Text(0.6206212222309659, -0.90820113329402, 'Virginica'),\n",
       "  Text(0.6672761388105527, -0.8744956000884626, 'Virginica'),\n",
       "  Text(0.7142054514117838, -0.8366065820764802, 'Virginica'),\n",
       "  Text(0.7561288060575763, -0.7989175355754462, 'Virginica'),\n",
       "  Text(0.7916996875179442, -0.7636829216265019, 'Virginica'),\n",
       "  Text(0.8248483415991666, -0.7277535388860056, 'Virginica'),\n",
       "  Text(0.8598214437517993, -0.686080960867281, 'Virginica'),\n",
       "  Text(0.8931518908096354, -0.6420901026671983, 'Virginica'),\n",
       "  Text(0.9214445262374452, -0.6007828102293293, 'Virginica'),\n",
       "  Text(0.9472273986527301, -0.5592497252941497, 'Virginica'),\n",
       "  Text(0.9720637672700949, -0.5148708890204134, 'Virginica'),\n",
       "  Text(0.9959969471014745, -0.46689407938476035, 'Virginica'),\n",
       "  Text(1.017563958091165, -0.41780807937836933, 'Virginica'),\n",
       "  Text(1.0355219426017486, -0.37107183454191334, 'Virginica'),\n",
       "  Text(1.0512185867541617, -0.3239436414912063, 'Virginica'),\n",
       "  Text(1.0656568538140117, -0.2727186644130219, 'Virginica'),\n",
       "  Text(1.0775213193607978, -0.2212415113014868, 'Virginica'),\n",
       "  Text(1.0866568858167311, -0.17081221416246548, 'Virginica'),\n",
       "  Text(1.0933473116973982, -0.12079592710051475, 'Virginica'),\n",
       "  Text(1.097711488457558, -0.07091888400343593, 'Virginica'),\n",
       "  Text(1.0997540499435292, -0.02326004369740927, 'Virginica')])"
      ]
     },
     "execution_count": 19,
     "metadata": {},
     "output_type": "execute_result"
    }
   ],
   "source": [
    "plt.pie(data=df,x=\"sepal.length\",labels=\"variety\")"
   ]
  },
  {
   "cell_type": "code",
   "execution_count": 20,
   "metadata": {},
   "outputs": [
    {
     "data": {
      "image/png": "[encoded data removed]",
      "text/plain": [
       "<Figure size 432x288 with 1 Axes>"
      ]
     },
     "metadata": {},
     "output_type": "display_data"
    }
   ],
   "source": [
    "plt.show()"
   ]
  },
  {
   "cell_type": "code",
   "execution_count": null,
   "metadata": {
    "collapsed": true
   },
   "outputs": [],
   "source": []
  }
 ],
 "metadata": {
  "kernelspec": {
   "display_name": "Python 3",
   "language": "python",
   "name": "python3"
  },
  "language_info": {
   "codemirror_mode": {
    "name": "ipython",
    "version": 3
   },
   "file_extension": ".py",
   "mimetype": "text/x-python",
   "name": "python",
   "nbconvert_exporter": "python",
   "pygments_lexer": "ipython3",
   "version": "3.6.3"
  }
 },
 "nbformat": 4,
 "nbformat_minor": 2
}
